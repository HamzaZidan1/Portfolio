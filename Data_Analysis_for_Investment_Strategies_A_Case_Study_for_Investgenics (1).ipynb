{
 "cells": [
  {
   "cell_type": "markdown",
   "metadata": {},
   "source": [
    "## I have been tasked with solving crucial business problems for Investgenics. In this module, I will be using my Pandas knowledge to analyze data and help the firm answer important questions. Specifically, I will be helping investors decide which of the three investment options - gold, oil, or stocks - is the most stable. To achieve this goal, I will be looking at data on the volume of stocks sold and identifying which stocks were sold with the highest and lowest volumes. This will help investors make informed decisions about where to invest their money for maximum returns with minimum risk."
   ]
  },
  {
   "cell_type": "code",
   "execution_count": 1,
   "metadata": {},
   "outputs": [
    {
     "name": "stdout",
     "output_type": "stream",
     "text": [
      "(1844, 6)\n",
      "Date      object\n",
      "Price    float64\n",
      "Open     float64\n",
      "High     float64\n",
      "Low      float64\n",
      "Vol.      object\n",
      "dtype: object\n",
      "         Date   Price    Open    High     Low     Vol.\n",
      "0  2011-12-01  100.20  100.51  101.17   98.87  275.86K\n",
      "1  2011-12-02  100.96  100.00  101.56   99.76  245.92K\n",
      "2  2011-12-05  100.99  101.23  102.44  100.24  239.38K\n",
      "3  2011-12-06  101.28  100.45  101.42  100.20  217.03K\n",
      "4  2011-12-07  100.49  101.11  101.94   99.67  330.53K\n",
      "            Date  Price   Open   High    Low     Vol.\n",
      "1839  2018-12-25  43.16  43.00  43.25  42.88        -\n",
      "1840  2018-12-26  46.22  42.85  47.00  42.52  698.41K\n",
      "1841  2018-12-27  44.61  46.58  46.70  44.37  665.59K\n",
      "1842  2018-12-28  45.33  45.44  46.22  44.42  564.39K\n",
      "1843  2018-12-31  45.41  45.22  46.53  44.73  476.97K\n"
     ]
    }
   ],
   "source": [
    "# Import the libarary\n",
    "import pandas as pd\n",
    "\n",
    "# Import the CSV files\n",
    "oil = pd.read_csv('oil_price.csv')\n",
    "gold = pd.read_csv('gold_stocks_price.csv')\n",
    "\n",
    "# View the oil DataFrame\n",
    "print(oil.shape)\n",
    "print(oil.dtypes)\n",
    "print(oil.head())\n",
    "print(oil.tail())"
   ]
  },
  {
   "cell_type": "code",
   "execution_count": 2,
   "metadata": {},
   "outputs": [
    {
     "name": "stdout",
     "output_type": "stream",
     "text": [
      "(1718, 81)\n",
      "Date              object\n",
      "Open             float64\n",
      "High             float64\n",
      "Low              float64\n",
      "Close            float64\n",
      "                  ...   \n",
      "USO_High         float64\n",
      "USO_Low          float64\n",
      "USO_Close        float64\n",
      "USO_Adj Close    float64\n",
      "USO_Volume         int64\n",
      "Length: 81, dtype: object\n",
      "         Date        Open        High         Low       Close   Adj Close  \\\n",
      "0  2011-12-15  154.740005  154.949997  151.710007  152.330002  152.330002   \n",
      "1  2011-12-16  154.309998  155.369995  153.899994  155.229996  155.229996   \n",
      "2  2011-12-19  155.479996  155.860001  154.360001  154.869995  154.869995   \n",
      "3  2011-12-20  156.820007  157.429993  156.580002  156.979996  156.979996   \n",
      "4  2011-12-21  156.979996  157.529999  156.130005  157.160004  157.160004   \n",
      "\n",
      "     Volume     SP_open     SP_high      SP_low  ...    GDX_Low  GDX_Close  \\\n",
      "0  21521900  123.029999  123.199997  121.989998  ...  51.570000  51.680000   \n",
      "1  18124300  122.230003  122.949997  121.300003  ...  52.040001  52.680000   \n",
      "2  12547200  122.059998  122.320000  120.029999  ...  51.029999  51.169998   \n",
      "3   9136300  122.180000  124.139999  120.370003  ...  52.369999  52.990002   \n",
      "4  11996100  123.930000  124.360001  122.750000  ...  52.419998  52.959999   \n",
      "\n",
      "   GDX_Adj Close  GDX_Volume   USO_Open   USO_High    USO_Low  USO_Close  \\\n",
      "0      48.973877    20605600  36.900002  36.939999  36.049999  36.130001   \n",
      "1      49.921513    16285400  36.180000  36.500000  35.730000  36.270000   \n",
      "2      48.490578    15120200  36.389999  36.450001  35.930000  36.200001   \n",
      "3      50.215282    11644900  37.299999  37.610001  37.220001  37.560001   \n",
      "4      50.186852     8724300  37.669998  38.240002  37.520000  38.110001   \n",
      "\n",
      "   USO_Adj Close  USO_Volume  \n",
      "0      36.130001    12616700  \n",
      "1      36.270000    12578800  \n",
      "2      36.200001     7418200  \n",
      "3      37.560001    10041600  \n",
      "4      38.110001    10728000  \n",
      "\n",
      "[5 rows x 81 columns]\n",
      "            Date        Open        High         Low       Close   Adj Close  \\\n",
      "1713  2018-12-24  119.570000  120.139999  119.570000  120.019997  120.019997   \n",
      "1714  2018-12-26  120.620003  121.000000  119.570000  119.660004  119.660004   \n",
      "1715  2018-12-27  120.570000  120.900002  120.139999  120.570000  120.570000   \n",
      "1716  2018-12-28  120.800003  121.080002  120.720001  121.059998  121.059998   \n",
      "1717  2018-12-31  120.980003  121.260002  120.830002  121.250000  121.250000   \n",
      "\n",
      "        Volume     SP_open     SP_high      SP_low  ...    GDX_Low  GDX_Close  \\\n",
      "1713   9736400  239.039993  240.839996  234.270004  ...  20.650000  21.090000   \n",
      "1714  14293500  235.970001  246.179993  233.759995  ...  20.530001  20.620001   \n",
      "1715  11874400  242.570007  248.289993  238.960007  ...  20.700001  20.969999   \n",
      "1716   6864700  249.580002  251.399994  246.449997  ...  20.570000  20.600000   \n",
      "1717   8449400  249.559998  250.190002  247.470001  ...  20.559999  21.090000   \n",
      "\n",
      "      GDX_Adj Close  GDX_Volume  USO_Open  USO_High  USO_Low  USO_Close  \\\n",
      "1713      21.090000    60507000      9.49      9.52     9.28       9.29   \n",
      "1714      20.620001    76365200      9.25      9.92     9.23       9.90   \n",
      "1715      20.969999    52393000      9.59      9.65     9.37       9.62   \n",
      "1716      20.600000    49835000      9.54      9.65     9.38       9.53   \n",
      "1717      21.090000    53866600      9.63      9.71     9.44       9.66   \n",
      "\n",
      "      USO_Adj Close  USO_Volume  \n",
      "1713           9.29    21598200  \n",
      "1714           9.90    40978800  \n",
      "1715           9.62    36578700  \n",
      "1716           9.53    22803400  \n",
      "1717           9.66    28417400  \n",
      "\n",
      "[5 rows x 81 columns]\n"
     ]
    }
   ],
   "source": [
    "# View the gold DataFrame\n",
    "print(gold.shape)\n",
    "print(gold.dtypes)\n",
    "print(gold.head())\n",
    "print(gold.tail())"
   ]
  },
  {
   "cell_type": "markdown",
   "metadata": {},
   "source": [
    "# "
   ]
  },
  {
   "cell_type": "markdown",
   "metadata": {},
   "source": [
    "### 2. Create a subset DataFrame based on gold_stocks_price.csv"
   ]
  },
  {
   "cell_type": "code",
   "execution_count": 3,
   "metadata": {},
   "outputs": [
    {
     "name": "stdout",
     "output_type": "stream",
     "text": [
      "(500, 4)\n",
      "Date              object\n",
      "Open             float64\n",
      "High             float64\n",
      "Low              float64\n",
      "Close            float64\n",
      "                  ...   \n",
      "USO_High         float64\n",
      "USO_Low          float64\n",
      "USO_Close        float64\n",
      "USO_Adj Close    float64\n",
      "USO_Volume         int64\n",
      "Length: 81, dtype: object\n"
     ]
    }
   ],
   "source": [
    "# Subset the gold DataFrame\n",
    "gold_subset = gold[['Date', 'Open', 'High', 'Low']]\n",
    "\n",
    "# Slice the gold_subset to 500 rows\n",
    "gold_subset = gold_subset.iloc[:500]\n",
    "\n",
    "# View the gold_subset\n",
    "print(gold_subset.shape)\n",
    "print(gold.dtypes)"
   ]
  },
  {
   "cell_type": "code",
   "execution_count": 4,
   "metadata": {},
   "outputs": [
    {
     "data": {
      "text/plain": [
       "Date    0\n",
       "Open    0\n",
       "High    0\n",
       "Low     0\n",
       "dtype: int64"
      ]
     },
     "execution_count": 4,
     "metadata": {},
     "output_type": "execute_result"
    }
   ],
   "source": [
    "# Determine the missing values\n",
    "gold_subset.isna().sum()"
   ]
  },
  {
   "cell_type": "code",
   "execution_count": 5,
   "metadata": {},
   "outputs": [
    {
     "name": "stdout",
     "output_type": "stream",
     "text": [
      "117.580002\n",
      "173.199997\n"
     ]
    }
   ],
   "source": [
    "# Min and max value for column\\ for subsetted gold DataFrame \n",
    "print(gold_subset['Open'].min())\n",
    "print(gold_subset['Open'].max())"
   ]
  },
  {
   "cell_type": "code",
   "execution_count": 6,
   "metadata": {},
   "outputs": [
    {
     "name": "stdout",
     "output_type": "stream",
     "text": [
      "118.18\n",
      "174.070007\n"
     ]
    }
   ],
   "source": [
    "print(gold_subset['High'].min())\n",
    "print(gold_subset['High'].max())"
   ]
  },
  {
   "cell_type": "code",
   "execution_count": 7,
   "metadata": {},
   "outputs": [
    {
     "name": "stdout",
     "output_type": "stream",
     "text": [
      "116.739998\n",
      "172.919998\n"
     ]
    }
   ],
   "source": [
    "print(gold_subset['Low'].min())\n",
    "print(gold_subset['Low'].max())"
   ]
  },
  {
   "cell_type": "markdown",
   "metadata": {
    "hidden": true,
    "id": "OM7t_eNrzReG"
   },
   "source": [
    "### Alternate way using print statement : "
   ]
  },
  {
   "cell_type": "code",
   "execution_count": 8,
   "metadata": {
    "colab": {
     "base_uri": "https://localhost:8080/"
    },
    "executionInfo": {
     "elapsed": 35,
     "status": "ok",
     "timestamp": 1646906026305,
     "user": {
      "displayName": "Jeevak Ghosh",
      "photoUrl": "https://lh3.googleusercontent.com/a/default-user=s64",
      "userId": "10153434038967682924"
     },
     "user_tz": -330
    },
    "hidden": true,
    "id": "3Q1yGMYLzReG",
    "outputId": "d5ba0e0f-2a5c-4756-bb4c-496235e7542f"
   },
   "outputs": [
    {
     "name": "stdout",
     "output_type": "stream",
     "text": [
      "The maximum value for open is the subsetted gold dataframe is 173.199997\n",
      "The minimum value for open is the subsetted gold dataframe is 117.580002\n",
      "The maximum value for high is the subsetted gold dataframe is 174.070007\n",
      "The minimum value for high is the subsetted gold dataframe is 118.18\n",
      "The maximum value for low is the subsetted gold dataframe is 172.919998\n",
      "The minimum value for low is the subsetted gold dataframe is 116.739998\n"
     ]
    }
   ],
   "source": [
    "print(f\"The maximum value for open is the subsetted gold dataframe is {gold_subset['Open'].max()}\")\n",
    "print(f\"The minimum value for open is the subsetted gold dataframe is {gold_subset['Open'].min()}\")\n",
    "\n",
    "print(f\"The maximum value for high is the subsetted gold dataframe is {gold_subset['High'].max()}\")\n",
    "print(f\"The minimum value for high is the subsetted gold dataframe is {gold_subset['High'].min()}\")\n",
    "\n",
    "print(f\"The maximum value for low is the subsetted gold dataframe is {gold_subset['Low'].max()}\")\n",
    "print(f\"The minimum value for low is the subsetted gold dataframe is {gold_subset['Low'].min()}\")"
   ]
  },
  {
   "cell_type": "markdown",
   "metadata": {},
   "source": [
    "# "
   ]
  },
  {
   "cell_type": "markdown",
   "metadata": {},
   "source": [
    "### 3. Create a subset DataFrame based on oil_price.csv"
   ]
  },
  {
   "cell_type": "code",
   "execution_count": 9,
   "metadata": {},
   "outputs": [
    {
     "name": "stdout",
     "output_type": "stream",
     "text": [
      "(500, 4)\n",
      "Date      object\n",
      "Price    float64\n",
      "Open     float64\n",
      "High     float64\n",
      "Low      float64\n",
      "Vol.      object\n",
      "dtype: object\n"
     ]
    }
   ],
   "source": [
    "# Subset the gold DataFrame\n",
    "oil_subset = oil[['Date', 'Open', 'High', 'Low']]\n",
    "\n",
    "# Slice the gold_subset to 500 rows\n",
    "oil_subset = oil_subset.iloc[:500]\n",
    "\n",
    "# View the gold_subset\n",
    "print(oil_subset.shape)\n",
    "print(oil.dtypes)"
   ]
  },
  {
   "cell_type": "code",
   "execution_count": 10,
   "metadata": {},
   "outputs": [
    {
     "data": {
      "text/plain": [
       "Date    0\n",
       "Open    0\n",
       "High    0\n",
       "Low     0\n",
       "dtype: int64"
      ]
     },
     "execution_count": 10,
     "metadata": {},
     "output_type": "execute_result"
    }
   ],
   "source": [
    "# Determine the missing values\n",
    "oil_subset.isna().sum()"
   ]
  },
  {
   "cell_type": "code",
   "execution_count": 11,
   "metadata": {},
   "outputs": [
    {
     "name": "stdout",
     "output_type": "stream",
     "text": [
      "78.11\n",
      "110.28\n"
     ]
    }
   ],
   "source": [
    "# Min and max value for column\\ for subsetted gold DataFrame: \n",
    "print(oil_subset['Open'].min())\n",
    "print(oil_subset['Open'].max())"
   ]
  },
  {
   "cell_type": "code",
   "execution_count": 12,
   "metadata": {},
   "outputs": [
    {
     "name": "stdout",
     "output_type": "stream",
     "text": [
      "79.68\n",
      "112.24\n"
     ]
    }
   ],
   "source": [
    "print(oil_subset['High'].min())\n",
    "print(oil_subset['High'].max())"
   ]
  },
  {
   "cell_type": "code",
   "execution_count": 13,
   "metadata": {},
   "outputs": [
    {
     "name": "stdout",
     "output_type": "stream",
     "text": [
      "77.28\n",
      "109.11\n"
     ]
    }
   ],
   "source": [
    "print(oil_subset['Low'].min())\n",
    "print(oil_subset['Low'].max())"
   ]
  },
  {
   "cell_type": "markdown",
   "metadata": {
    "hidden": true,
    "id": "OM7t_eNrzReG"
   },
   "source": [
    "### Alternate way of using the print statement : "
   ]
  },
  {
   "cell_type": "code",
   "execution_count": 14,
   "metadata": {
    "colab": {
     "base_uri": "https://localhost:8080/"
    },
    "executionInfo": {
     "elapsed": 35,
     "status": "ok",
     "timestamp": 1646906026305,
     "user": {
      "displayName": "Jeevak Ghosh",
      "photoUrl": "https://lh3.googleusercontent.com/a/default-user=s64",
      "userId": "10153434038967682924"
     },
     "user_tz": -330
    },
    "hidden": true,
    "id": "3Q1yGMYLzReG",
    "outputId": "d5ba0e0f-2a5c-4756-bb4c-496235e7542f"
   },
   "outputs": [
    {
     "name": "stdout",
     "output_type": "stream",
     "text": [
      "The maximum value for open is the subsetted oil dataframe is 110.28\n",
      "The minimum value for open is the subsetted oil dataframe is 78.11\n",
      "The maximum value for high is the subsetted oil dataframe is 112.24\n",
      "The minimum value for high is the subsetted oil dataframe is 79.68\n",
      "The maximum value for low is the subsetted oil dataframe is 109.11\n",
      "The minimum value for low is the subsetted oil dataframe is 77.28\n"
     ]
    }
   ],
   "source": [
    "print(f\"The maximum value for open is the subsetted oil dataframe is {oil_subset['Open'].max()}\")\n",
    "print(f\"The minimum value for open is the subsetted oil dataframe is {oil_subset['Open'].min()}\")\n",
    "\n",
    "print(f\"The maximum value for high is the subsetted oil dataframe is {oil_subset['High'].max()}\")\n",
    "print(f\"The minimum value for high is the subsetted oil dataframe is {oil_subset['High'].min()}\")\n",
    "\n",
    "print(f\"The maximum value for low is the subsetted oil dataframe is {oil_subset['Low'].max()}\")\n",
    "print(f\"The minimum value for low is the subsetted oil dataframe is {oil_subset['Low'].min()}\")"
   ]
  },
  {
   "cell_type": "markdown",
   "metadata": {},
   "source": [
    "# "
   ]
  },
  {
   "cell_type": "markdown",
   "metadata": {},
   "source": [
    "### 4. Statistical analysis"
   ]
  },
  {
   "cell_type": "code",
   "execution_count": 15,
   "metadata": {},
   "outputs": [
    {
     "name": "stdout",
     "output_type": "stream",
     "text": [
      "             Open        High         Low\n",
      "count  500.000000  500.000000  500.000000\n",
      "mean   149.033480  149.774340  148.266740\n",
      "std     16.923214   16.919180   16.871447\n",
      "min    117.580002  118.180000  116.739998\n",
      "25%    132.134998  133.144997  131.192501\n",
      "50%    155.070000  155.610001  154.360001\n",
      "75%    161.862500  162.577500  161.149994\n",
      "max    173.199997  174.070007  172.919998\n",
      "             Open        High         Low\n",
      "count  500.000000  500.000000  500.000000\n",
      "mean    96.196620   97.153780   95.084320\n",
      "std      6.991871    6.945661    7.003769\n",
      "min     78.110000   79.680000   77.280000\n",
      "25%     91.707500   92.627500   90.645000\n",
      "50%     95.790000   96.640000   94.820000\n",
      "75%    102.002500  102.962500  100.847500\n",
      "max    110.280000  112.240000  109.110000\n"
     ]
    }
   ],
   "source": [
    "# use the describe() function\n",
    "print(gold_subset.describe())\n",
    "print(oil_subset.describe())"
   ]
  },
  {
   "cell_type": "markdown",
   "metadata": {},
   "source": [
    "## In the previous challenge, I solved specific business problems related to the data sets, helping investors to decide on the most stable entity to invest in. However, for this module, I will apply my Seaborn and Matplotlib knowledge to understand my data better and solve some specific problems for Investgenics. I’ll answer the following business questions:\n",
    "\n",
    "## - What is the distribution of the data?\n",
    "## - Which performed the best in December 2015? Gold or oil?\n",
    "## - Are there any outliers in the opening value of both gold and oil?\n",
    "## - What happened to gold and oil on the stock market during June 2016?"
   ]
  },
  {
   "cell_type": "markdown",
   "metadata": {},
   "source": [
    "### Determine the daily average price of gold and oil."
   ]
  },
  {
   "cell_type": "code",
   "execution_count": 16,
   "metadata": {},
   "outputs": [
    {
     "name": "stdout",
     "output_type": "stream",
     "text": [
      "         Date        Open        High         Low\n",
      "0  2011-12-15  154.740005  154.949997  151.710007\n",
      "1  2011-12-16  154.309998  155.369995  153.899994\n",
      "2  2011-12-19  155.479996  155.860001  154.360001\n",
      "3  2011-12-20  156.820007  157.429993  156.580002\n",
      "4  2011-12-21  156.979996  157.529999  156.130005\n"
     ]
    },
    {
     "data": {
      "text/html": [
       "<div>\n",
       "<style scoped>\n",
       "    .dataframe tbody tr th:only-of-type {\n",
       "        vertical-align: middle;\n",
       "    }\n",
       "\n",
       "    .dataframe tbody tr th {\n",
       "        vertical-align: top;\n",
       "    }\n",
       "\n",
       "    .dataframe thead th {\n",
       "        text-align: right;\n",
       "    }\n",
       "</style>\n",
       "<table border=\"1\" class=\"dataframe\">\n",
       "  <thead>\n",
       "    <tr style=\"text-align: right;\">\n",
       "      <th></th>\n",
       "      <th>Date</th>\n",
       "      <th>Open</th>\n",
       "      <th>High</th>\n",
       "      <th>Low</th>\n",
       "      <th>average_gold</th>\n",
       "    </tr>\n",
       "  </thead>\n",
       "  <tbody>\n",
       "    <tr>\n",
       "      <th>0</th>\n",
       "      <td>2011-12-15</td>\n",
       "      <td>154.740005</td>\n",
       "      <td>154.949997</td>\n",
       "      <td>151.710007</td>\n",
       "      <td>153.800003</td>\n",
       "    </tr>\n",
       "    <tr>\n",
       "      <th>1</th>\n",
       "      <td>2011-12-16</td>\n",
       "      <td>154.309998</td>\n",
       "      <td>155.369995</td>\n",
       "      <td>153.899994</td>\n",
       "      <td>154.526662</td>\n",
       "    </tr>\n",
       "    <tr>\n",
       "      <th>2</th>\n",
       "      <td>2011-12-19</td>\n",
       "      <td>155.479996</td>\n",
       "      <td>155.860001</td>\n",
       "      <td>154.360001</td>\n",
       "      <td>155.233333</td>\n",
       "    </tr>\n",
       "    <tr>\n",
       "      <th>3</th>\n",
       "      <td>2011-12-20</td>\n",
       "      <td>156.820007</td>\n",
       "      <td>157.429993</td>\n",
       "      <td>156.580002</td>\n",
       "      <td>156.943334</td>\n",
       "    </tr>\n",
       "    <tr>\n",
       "      <th>4</th>\n",
       "      <td>2011-12-21</td>\n",
       "      <td>156.979996</td>\n",
       "      <td>157.529999</td>\n",
       "      <td>156.130005</td>\n",
       "      <td>156.880000</td>\n",
       "    </tr>\n",
       "    <tr>\n",
       "      <th>...</th>\n",
       "      <td>...</td>\n",
       "      <td>...</td>\n",
       "      <td>...</td>\n",
       "      <td>...</td>\n",
       "      <td>...</td>\n",
       "    </tr>\n",
       "    <tr>\n",
       "      <th>495</th>\n",
       "      <td>2014-01-27</td>\n",
       "      <td>121.650002</td>\n",
       "      <td>122.059998</td>\n",
       "      <td>120.720001</td>\n",
       "      <td>121.476667</td>\n",
       "    </tr>\n",
       "    <tr>\n",
       "      <th>496</th>\n",
       "      <td>2014-01-28</td>\n",
       "      <td>121.320000</td>\n",
       "      <td>121.400002</td>\n",
       "      <td>120.410004</td>\n",
       "      <td>121.043335</td>\n",
       "    </tr>\n",
       "    <tr>\n",
       "      <th>497</th>\n",
       "      <td>2014-01-29</td>\n",
       "      <td>122.190002</td>\n",
       "      <td>122.510002</td>\n",
       "      <td>121.129997</td>\n",
       "      <td>121.943334</td>\n",
       "    </tr>\n",
       "    <tr>\n",
       "      <th>498</th>\n",
       "      <td>2014-01-30</td>\n",
       "      <td>119.669998</td>\n",
       "      <td>120.220001</td>\n",
       "      <td>119.599998</td>\n",
       "      <td>119.829999</td>\n",
       "    </tr>\n",
       "    <tr>\n",
       "      <th>499</th>\n",
       "      <td>2014-02-03</td>\n",
       "      <td>120.470001</td>\n",
       "      <td>122.110001</td>\n",
       "      <td>120.320000</td>\n",
       "      <td>120.966667</td>\n",
       "    </tr>\n",
       "  </tbody>\n",
       "</table>\n",
       "<p>500 rows × 5 columns</p>\n",
       "</div>"
      ],
      "text/plain": [
       "           Date        Open        High         Low  average_gold\n",
       "0    2011-12-15  154.740005  154.949997  151.710007    153.800003\n",
       "1    2011-12-16  154.309998  155.369995  153.899994    154.526662\n",
       "2    2011-12-19  155.479996  155.860001  154.360001    155.233333\n",
       "3    2011-12-20  156.820007  157.429993  156.580002    156.943334\n",
       "4    2011-12-21  156.979996  157.529999  156.130005    156.880000\n",
       "..          ...         ...         ...         ...           ...\n",
       "495  2014-01-27  121.650002  122.059998  120.720001    121.476667\n",
       "496  2014-01-28  121.320000  121.400002  120.410004    121.043335\n",
       "497  2014-01-29  122.190002  122.510002  121.129997    121.943334\n",
       "498  2014-01-30  119.669998  120.220001  119.599998    119.829999\n",
       "499  2014-02-03  120.470001  122.110001  120.320000    120.966667\n",
       "\n",
       "[500 rows x 5 columns]"
      ]
     },
     "execution_count": 16,
     "metadata": {},
     "output_type": "execute_result"
    }
   ],
   "source": [
    "# View gold_subset.\n",
    "print(gold_subset.head())\n",
    "\n",
    "# Determine the average of gold per day.\n",
    "# Write a user-defined function.\n",
    "def avg_col3(x, y, z):\n",
    "    a = (x + y + z)/3\n",
    "    return a\n",
    "\n",
    "# Insert avg into a new column.\n",
    "gold_subset['average_gold'] = avg_col3(gold_subset['Open'], gold_subset['High'], gold_subset['Low'])\n",
    "\n",
    "# View the DataFrame.\n",
    "gold_subset"
   ]
  },
  {
   "cell_type": "code",
   "execution_count": 17,
   "metadata": {},
   "outputs": [
    {
     "name": "stdout",
     "output_type": "stream",
     "text": [
      "         Date        Open        High         Low  average_gold\n",
      "0  2011-12-15  154.740005  154.949997  151.710007    153.800003\n",
      "1  2011-12-16  154.309998  155.369995  153.899994    154.526662\n",
      "2  2011-12-19  155.479996  155.860001  154.360001    155.233333\n",
      "3  2011-12-20  156.820007  157.429993  156.580002    156.943334\n",
      "4  2011-12-21  156.979996  157.529999  156.130005    156.880000\n"
     ]
    },
    {
     "data": {
      "text/html": [
       "<div>\n",
       "<style scoped>\n",
       "    .dataframe tbody tr th:only-of-type {\n",
       "        vertical-align: middle;\n",
       "    }\n",
       "\n",
       "    .dataframe tbody tr th {\n",
       "        vertical-align: top;\n",
       "    }\n",
       "\n",
       "    .dataframe thead th {\n",
       "        text-align: right;\n",
       "    }\n",
       "</style>\n",
       "<table border=\"1\" class=\"dataframe\">\n",
       "  <thead>\n",
       "    <tr style=\"text-align: right;\">\n",
       "      <th></th>\n",
       "      <th>Date</th>\n",
       "      <th>Open</th>\n",
       "      <th>High</th>\n",
       "      <th>Low</th>\n",
       "      <th>average_oil</th>\n",
       "    </tr>\n",
       "  </thead>\n",
       "  <tbody>\n",
       "    <tr>\n",
       "      <th>0</th>\n",
       "      <td>2011-12-01</td>\n",
       "      <td>100.51</td>\n",
       "      <td>101.17</td>\n",
       "      <td>98.87</td>\n",
       "      <td>100.183333</td>\n",
       "    </tr>\n",
       "    <tr>\n",
       "      <th>1</th>\n",
       "      <td>2011-12-02</td>\n",
       "      <td>100.00</td>\n",
       "      <td>101.56</td>\n",
       "      <td>99.76</td>\n",
       "      <td>100.440000</td>\n",
       "    </tr>\n",
       "    <tr>\n",
       "      <th>2</th>\n",
       "      <td>2011-12-05</td>\n",
       "      <td>101.23</td>\n",
       "      <td>102.44</td>\n",
       "      <td>100.24</td>\n",
       "      <td>101.303333</td>\n",
       "    </tr>\n",
       "    <tr>\n",
       "      <th>3</th>\n",
       "      <td>2011-12-06</td>\n",
       "      <td>100.45</td>\n",
       "      <td>101.42</td>\n",
       "      <td>100.20</td>\n",
       "      <td>100.690000</td>\n",
       "    </tr>\n",
       "    <tr>\n",
       "      <th>4</th>\n",
       "      <td>2011-12-07</td>\n",
       "      <td>101.11</td>\n",
       "      <td>101.94</td>\n",
       "      <td>99.67</td>\n",
       "      <td>100.906667</td>\n",
       "    </tr>\n",
       "    <tr>\n",
       "      <th>...</th>\n",
       "      <td>...</td>\n",
       "      <td>...</td>\n",
       "      <td>...</td>\n",
       "      <td>...</td>\n",
       "      <td>...</td>\n",
       "    </tr>\n",
       "    <tr>\n",
       "      <th>495</th>\n",
       "      <td>2013-11-13</td>\n",
       "      <td>93.07</td>\n",
       "      <td>94.54</td>\n",
       "      <td>92.93</td>\n",
       "      <td>93.513333</td>\n",
       "    </tr>\n",
       "    <tr>\n",
       "      <th>496</th>\n",
       "      <td>2013-11-14</td>\n",
       "      <td>93.50</td>\n",
       "      <td>94.43</td>\n",
       "      <td>92.51</td>\n",
       "      <td>93.480000</td>\n",
       "    </tr>\n",
       "    <tr>\n",
       "      <th>497</th>\n",
       "      <td>2013-11-15</td>\n",
       "      <td>93.89</td>\n",
       "      <td>94.55</td>\n",
       "      <td>93.58</td>\n",
       "      <td>94.006667</td>\n",
       "    </tr>\n",
       "    <tr>\n",
       "      <th>498</th>\n",
       "      <td>2013-11-18</td>\n",
       "      <td>93.78</td>\n",
       "      <td>94.30</td>\n",
       "      <td>92.72</td>\n",
       "      <td>93.600000</td>\n",
       "    </tr>\n",
       "    <tr>\n",
       "      <th>499</th>\n",
       "      <td>2013-11-19</td>\n",
       "      <td>93.00</td>\n",
       "      <td>93.46</td>\n",
       "      <td>92.43</td>\n",
       "      <td>92.963333</td>\n",
       "    </tr>\n",
       "  </tbody>\n",
       "</table>\n",
       "<p>500 rows × 5 columns</p>\n",
       "</div>"
      ],
      "text/plain": [
       "           Date    Open    High     Low  average_oil\n",
       "0    2011-12-01  100.51  101.17   98.87   100.183333\n",
       "1    2011-12-02  100.00  101.56   99.76   100.440000\n",
       "2    2011-12-05  101.23  102.44  100.24   101.303333\n",
       "3    2011-12-06  100.45  101.42  100.20   100.690000\n",
       "4    2011-12-07  101.11  101.94   99.67   100.906667\n",
       "..          ...     ...     ...     ...          ...\n",
       "495  2013-11-13   93.07   94.54   92.93    93.513333\n",
       "496  2013-11-14   93.50   94.43   92.51    93.480000\n",
       "497  2013-11-15   93.89   94.55   93.58    94.006667\n",
       "498  2013-11-18   93.78   94.30   92.72    93.600000\n",
       "499  2013-11-19   93.00   93.46   92.43    92.963333\n",
       "\n",
       "[500 rows x 5 columns]"
      ]
     },
     "execution_count": 17,
     "metadata": {},
     "output_type": "execute_result"
    }
   ],
   "source": [
    "# View the oil_subset.\n",
    "print(gold_subset.head())\n",
    "\n",
    "# Calculate the average of oil prices per day.\n",
    "# Write a user-defined function.\n",
    "def avg_col3(x, y, z):\n",
    "    a = (x + y + z)/3\n",
    "    return a\n",
    "\n",
    "oil_subset['average_oil'] = avg_col3(oil_subset['Open'], oil_subset['High'], oil_subset['Low'])\n",
    "\n",
    "# View the DataFrame.\n",
    "oil_subset"
   ]
  },
  {
   "cell_type": "markdown",
   "metadata": {},
   "source": [
    "### Convert the daily average price of gold and oil from US dollars to British Pound¶"
   ]
  },
  {
   "cell_type": "code",
   "execution_count": 18,
   "metadata": {},
   "outputs": [
    {
     "data": {
      "text/html": [
       "<div>\n",
       "<style scoped>\n",
       "    .dataframe tbody tr th:only-of-type {\n",
       "        vertical-align: middle;\n",
       "    }\n",
       "\n",
       "    .dataframe tbody tr th {\n",
       "        vertical-align: top;\n",
       "    }\n",
       "\n",
       "    .dataframe thead th {\n",
       "        text-align: right;\n",
       "    }\n",
       "</style>\n",
       "<table border=\"1\" class=\"dataframe\">\n",
       "  <thead>\n",
       "    <tr style=\"text-align: right;\">\n",
       "      <th></th>\n",
       "      <th>Date</th>\n",
       "      <th>Open</th>\n",
       "      <th>High</th>\n",
       "      <th>Low</th>\n",
       "      <th>average_gold</th>\n",
       "      <th>avg_gold_GBP</th>\n",
       "    </tr>\n",
       "  </thead>\n",
       "  <tbody>\n",
       "    <tr>\n",
       "      <th>0</th>\n",
       "      <td>2011-12-15</td>\n",
       "      <td>154.740005</td>\n",
       "      <td>154.949997</td>\n",
       "      <td>151.710007</td>\n",
       "      <td>153.800003</td>\n",
       "      <td>123.040002</td>\n",
       "    </tr>\n",
       "    <tr>\n",
       "      <th>1</th>\n",
       "      <td>2011-12-16</td>\n",
       "      <td>154.309998</td>\n",
       "      <td>155.369995</td>\n",
       "      <td>153.899994</td>\n",
       "      <td>154.526662</td>\n",
       "      <td>123.621330</td>\n",
       "    </tr>\n",
       "    <tr>\n",
       "      <th>2</th>\n",
       "      <td>2011-12-19</td>\n",
       "      <td>155.479996</td>\n",
       "      <td>155.860001</td>\n",
       "      <td>154.360001</td>\n",
       "      <td>155.233333</td>\n",
       "      <td>124.186666</td>\n",
       "    </tr>\n",
       "    <tr>\n",
       "      <th>3</th>\n",
       "      <td>2011-12-20</td>\n",
       "      <td>156.820007</td>\n",
       "      <td>157.429993</td>\n",
       "      <td>156.580002</td>\n",
       "      <td>156.943334</td>\n",
       "      <td>125.554667</td>\n",
       "    </tr>\n",
       "    <tr>\n",
       "      <th>4</th>\n",
       "      <td>2011-12-21</td>\n",
       "      <td>156.979996</td>\n",
       "      <td>157.529999</td>\n",
       "      <td>156.130005</td>\n",
       "      <td>156.880000</td>\n",
       "      <td>125.504000</td>\n",
       "    </tr>\n",
       "    <tr>\n",
       "      <th>...</th>\n",
       "      <td>...</td>\n",
       "      <td>...</td>\n",
       "      <td>...</td>\n",
       "      <td>...</td>\n",
       "      <td>...</td>\n",
       "      <td>...</td>\n",
       "    </tr>\n",
       "    <tr>\n",
       "      <th>495</th>\n",
       "      <td>2014-01-27</td>\n",
       "      <td>121.650002</td>\n",
       "      <td>122.059998</td>\n",
       "      <td>120.720001</td>\n",
       "      <td>121.476667</td>\n",
       "      <td>97.181334</td>\n",
       "    </tr>\n",
       "    <tr>\n",
       "      <th>496</th>\n",
       "      <td>2014-01-28</td>\n",
       "      <td>121.320000</td>\n",
       "      <td>121.400002</td>\n",
       "      <td>120.410004</td>\n",
       "      <td>121.043335</td>\n",
       "      <td>96.834668</td>\n",
       "    </tr>\n",
       "    <tr>\n",
       "      <th>497</th>\n",
       "      <td>2014-01-29</td>\n",
       "      <td>122.190002</td>\n",
       "      <td>122.510002</td>\n",
       "      <td>121.129997</td>\n",
       "      <td>121.943334</td>\n",
       "      <td>97.554667</td>\n",
       "    </tr>\n",
       "    <tr>\n",
       "      <th>498</th>\n",
       "      <td>2014-01-30</td>\n",
       "      <td>119.669998</td>\n",
       "      <td>120.220001</td>\n",
       "      <td>119.599998</td>\n",
       "      <td>119.829999</td>\n",
       "      <td>95.863999</td>\n",
       "    </tr>\n",
       "    <tr>\n",
       "      <th>499</th>\n",
       "      <td>2014-02-03</td>\n",
       "      <td>120.470001</td>\n",
       "      <td>122.110001</td>\n",
       "      <td>120.320000</td>\n",
       "      <td>120.966667</td>\n",
       "      <td>96.773334</td>\n",
       "    </tr>\n",
       "  </tbody>\n",
       "</table>\n",
       "<p>500 rows × 6 columns</p>\n",
       "</div>"
      ],
      "text/plain": [
       "           Date        Open        High         Low  average_gold  \\\n",
       "0    2011-12-15  154.740005  154.949997  151.710007    153.800003   \n",
       "1    2011-12-16  154.309998  155.369995  153.899994    154.526662   \n",
       "2    2011-12-19  155.479996  155.860001  154.360001    155.233333   \n",
       "3    2011-12-20  156.820007  157.429993  156.580002    156.943334   \n",
       "4    2011-12-21  156.979996  157.529999  156.130005    156.880000   \n",
       "..          ...         ...         ...         ...           ...   \n",
       "495  2014-01-27  121.650002  122.059998  120.720001    121.476667   \n",
       "496  2014-01-28  121.320000  121.400002  120.410004    121.043335   \n",
       "497  2014-01-29  122.190002  122.510002  121.129997    121.943334   \n",
       "498  2014-01-30  119.669998  120.220001  119.599998    119.829999   \n",
       "499  2014-02-03  120.470001  122.110001  120.320000    120.966667   \n",
       "\n",
       "     avg_gold_GBP  \n",
       "0      123.040002  \n",
       "1      123.621330  \n",
       "2      124.186666  \n",
       "3      125.554667  \n",
       "4      125.504000  \n",
       "..            ...  \n",
       "495     97.181334  \n",
       "496     96.834668  \n",
       "497     97.554667  \n",
       "498     95.863999  \n",
       "499     96.773334  \n",
       "\n",
       "[500 rows x 6 columns]"
      ]
     },
     "execution_count": 18,
     "metadata": {},
     "output_type": "execute_result"
    }
   ],
   "source": [
    "# Employ lambda function to convert US dollars to British pounds.\n",
    "# Where 1 US$ = 0.8 GBP.\n",
    "gold_subset['avg_gold_GBP'] = gold_subset['average_gold'].apply(lambda x: x*0.8)\n",
    "\n",
    "# View the DataFrame.\n",
    "gold_subset"
   ]
  },
  {
   "cell_type": "code",
   "execution_count": 19,
   "metadata": {},
   "outputs": [
    {
     "data": {
      "text/html": [
       "<div>\n",
       "<style scoped>\n",
       "    .dataframe tbody tr th:only-of-type {\n",
       "        vertical-align: middle;\n",
       "    }\n",
       "\n",
       "    .dataframe tbody tr th {\n",
       "        vertical-align: top;\n",
       "    }\n",
       "\n",
       "    .dataframe thead th {\n",
       "        text-align: right;\n",
       "    }\n",
       "</style>\n",
       "<table border=\"1\" class=\"dataframe\">\n",
       "  <thead>\n",
       "    <tr style=\"text-align: right;\">\n",
       "      <th></th>\n",
       "      <th>Date</th>\n",
       "      <th>Open</th>\n",
       "      <th>High</th>\n",
       "      <th>Low</th>\n",
       "      <th>average_oil</th>\n",
       "      <th>avg_oil_GBP</th>\n",
       "    </tr>\n",
       "  </thead>\n",
       "  <tbody>\n",
       "    <tr>\n",
       "      <th>0</th>\n",
       "      <td>2011-12-01</td>\n",
       "      <td>100.51</td>\n",
       "      <td>101.17</td>\n",
       "      <td>98.87</td>\n",
       "      <td>100.183333</td>\n",
       "      <td>80.146667</td>\n",
       "    </tr>\n",
       "    <tr>\n",
       "      <th>1</th>\n",
       "      <td>2011-12-02</td>\n",
       "      <td>100.00</td>\n",
       "      <td>101.56</td>\n",
       "      <td>99.76</td>\n",
       "      <td>100.440000</td>\n",
       "      <td>80.352000</td>\n",
       "    </tr>\n",
       "    <tr>\n",
       "      <th>2</th>\n",
       "      <td>2011-12-05</td>\n",
       "      <td>101.23</td>\n",
       "      <td>102.44</td>\n",
       "      <td>100.24</td>\n",
       "      <td>101.303333</td>\n",
       "      <td>81.042667</td>\n",
       "    </tr>\n",
       "    <tr>\n",
       "      <th>3</th>\n",
       "      <td>2011-12-06</td>\n",
       "      <td>100.45</td>\n",
       "      <td>101.42</td>\n",
       "      <td>100.20</td>\n",
       "      <td>100.690000</td>\n",
       "      <td>80.552000</td>\n",
       "    </tr>\n",
       "    <tr>\n",
       "      <th>4</th>\n",
       "      <td>2011-12-07</td>\n",
       "      <td>101.11</td>\n",
       "      <td>101.94</td>\n",
       "      <td>99.67</td>\n",
       "      <td>100.906667</td>\n",
       "      <td>80.725333</td>\n",
       "    </tr>\n",
       "    <tr>\n",
       "      <th>...</th>\n",
       "      <td>...</td>\n",
       "      <td>...</td>\n",
       "      <td>...</td>\n",
       "      <td>...</td>\n",
       "      <td>...</td>\n",
       "      <td>...</td>\n",
       "    </tr>\n",
       "    <tr>\n",
       "      <th>495</th>\n",
       "      <td>2013-11-13</td>\n",
       "      <td>93.07</td>\n",
       "      <td>94.54</td>\n",
       "      <td>92.93</td>\n",
       "      <td>93.513333</td>\n",
       "      <td>74.810667</td>\n",
       "    </tr>\n",
       "    <tr>\n",
       "      <th>496</th>\n",
       "      <td>2013-11-14</td>\n",
       "      <td>93.50</td>\n",
       "      <td>94.43</td>\n",
       "      <td>92.51</td>\n",
       "      <td>93.480000</td>\n",
       "      <td>74.784000</td>\n",
       "    </tr>\n",
       "    <tr>\n",
       "      <th>497</th>\n",
       "      <td>2013-11-15</td>\n",
       "      <td>93.89</td>\n",
       "      <td>94.55</td>\n",
       "      <td>93.58</td>\n",
       "      <td>94.006667</td>\n",
       "      <td>75.205333</td>\n",
       "    </tr>\n",
       "    <tr>\n",
       "      <th>498</th>\n",
       "      <td>2013-11-18</td>\n",
       "      <td>93.78</td>\n",
       "      <td>94.30</td>\n",
       "      <td>92.72</td>\n",
       "      <td>93.600000</td>\n",
       "      <td>74.880000</td>\n",
       "    </tr>\n",
       "    <tr>\n",
       "      <th>499</th>\n",
       "      <td>2013-11-19</td>\n",
       "      <td>93.00</td>\n",
       "      <td>93.46</td>\n",
       "      <td>92.43</td>\n",
       "      <td>92.963333</td>\n",
       "      <td>74.370667</td>\n",
       "    </tr>\n",
       "  </tbody>\n",
       "</table>\n",
       "<p>500 rows × 6 columns</p>\n",
       "</div>"
      ],
      "text/plain": [
       "           Date    Open    High     Low  average_oil  avg_oil_GBP\n",
       "0    2011-12-01  100.51  101.17   98.87   100.183333    80.146667\n",
       "1    2011-12-02  100.00  101.56   99.76   100.440000    80.352000\n",
       "2    2011-12-05  101.23  102.44  100.24   101.303333    81.042667\n",
       "3    2011-12-06  100.45  101.42  100.20   100.690000    80.552000\n",
       "4    2011-12-07  101.11  101.94   99.67   100.906667    80.725333\n",
       "..          ...     ...     ...     ...          ...          ...\n",
       "495  2013-11-13   93.07   94.54   92.93    93.513333    74.810667\n",
       "496  2013-11-14   93.50   94.43   92.51    93.480000    74.784000\n",
       "497  2013-11-15   93.89   94.55   93.58    94.006667    75.205333\n",
       "498  2013-11-18   93.78   94.30   92.72    93.600000    74.880000\n",
       "499  2013-11-19   93.00   93.46   92.43    92.963333    74.370667\n",
       "\n",
       "[500 rows x 6 columns]"
      ]
     },
     "execution_count": 19,
     "metadata": {},
     "output_type": "execute_result"
    }
   ],
   "source": [
    "# Employ lambda function to convert US dollars to British pounds.\n",
    "# Where 1 US$ = 0.8 GBP.\n",
    "oil_subset['avg_oil_GBP'] = oil_subset['average_oil'].apply(lambda x: x*0.8)\n",
    "\n",
    "# View the DataFrame.\n",
    "oil_subset"
   ]
  },
  {
   "cell_type": "markdown",
   "metadata": {},
   "source": [
    "### Compare the average gold and oil price in GBP"
   ]
  },
  {
   "cell_type": "code",
   "execution_count": 20,
   "metadata": {},
   "outputs": [
    {
     "data": {
      "text/html": [
       "<div>\n",
       "<style scoped>\n",
       "    .dataframe tbody tr th:only-of-type {\n",
       "        vertical-align: middle;\n",
       "    }\n",
       "\n",
       "    .dataframe tbody tr th {\n",
       "        vertical-align: top;\n",
       "    }\n",
       "\n",
       "    .dataframe thead th {\n",
       "        text-align: right;\n",
       "    }\n",
       "</style>\n",
       "<table border=\"1\" class=\"dataframe\">\n",
       "  <thead>\n",
       "    <tr style=\"text-align: right;\">\n",
       "      <th></th>\n",
       "      <th>Date</th>\n",
       "      <th>avg_gold_GBP</th>\n",
       "    </tr>\n",
       "  </thead>\n",
       "  <tbody>\n",
       "    <tr>\n",
       "      <th>0</th>\n",
       "      <td>2011-12-15</td>\n",
       "      <td>123.040002</td>\n",
       "    </tr>\n",
       "    <tr>\n",
       "      <th>1</th>\n",
       "      <td>2011-12-16</td>\n",
       "      <td>123.621330</td>\n",
       "    </tr>\n",
       "    <tr>\n",
       "      <th>2</th>\n",
       "      <td>2011-12-19</td>\n",
       "      <td>124.186666</td>\n",
       "    </tr>\n",
       "    <tr>\n",
       "      <th>3</th>\n",
       "      <td>2011-12-20</td>\n",
       "      <td>125.554667</td>\n",
       "    </tr>\n",
       "    <tr>\n",
       "      <th>4</th>\n",
       "      <td>2011-12-21</td>\n",
       "      <td>125.504000</td>\n",
       "    </tr>\n",
       "    <tr>\n",
       "      <th>...</th>\n",
       "      <td>...</td>\n",
       "      <td>...</td>\n",
       "    </tr>\n",
       "    <tr>\n",
       "      <th>495</th>\n",
       "      <td>2014-01-27</td>\n",
       "      <td>97.181334</td>\n",
       "    </tr>\n",
       "    <tr>\n",
       "      <th>496</th>\n",
       "      <td>2014-01-28</td>\n",
       "      <td>96.834668</td>\n",
       "    </tr>\n",
       "    <tr>\n",
       "      <th>497</th>\n",
       "      <td>2014-01-29</td>\n",
       "      <td>97.554667</td>\n",
       "    </tr>\n",
       "    <tr>\n",
       "      <th>498</th>\n",
       "      <td>2014-01-30</td>\n",
       "      <td>95.863999</td>\n",
       "    </tr>\n",
       "    <tr>\n",
       "      <th>499</th>\n",
       "      <td>2014-02-03</td>\n",
       "      <td>96.773334</td>\n",
       "    </tr>\n",
       "  </tbody>\n",
       "</table>\n",
       "<p>500 rows × 2 columns</p>\n",
       "</div>"
      ],
      "text/plain": [
       "           Date  avg_gold_GBP\n",
       "0    2011-12-15    123.040002\n",
       "1    2011-12-16    123.621330\n",
       "2    2011-12-19    124.186666\n",
       "3    2011-12-20    125.554667\n",
       "4    2011-12-21    125.504000\n",
       "..          ...           ...\n",
       "495  2014-01-27     97.181334\n",
       "496  2014-01-28     96.834668\n",
       "497  2014-01-29     97.554667\n",
       "498  2014-01-30     95.863999\n",
       "499  2014-02-03     96.773334\n",
       "\n",
       "[500 rows x 2 columns]"
      ]
     },
     "execution_count": 20,
     "metadata": {},
     "output_type": "execute_result"
    }
   ],
   "source": [
    "# Use the merge function and Date as ID.\n",
    "gold = gold_subset[['Date', 'avg_gold_GBP']]\n",
    "\n",
    "gold"
   ]
  },
  {
   "cell_type": "code",
   "execution_count": 21,
   "metadata": {},
   "outputs": [
    {
     "data": {
      "text/html": [
       "<div>\n",
       "<style scoped>\n",
       "    .dataframe tbody tr th:only-of-type {\n",
       "        vertical-align: middle;\n",
       "    }\n",
       "\n",
       "    .dataframe tbody tr th {\n",
       "        vertical-align: top;\n",
       "    }\n",
       "\n",
       "    .dataframe thead th {\n",
       "        text-align: right;\n",
       "    }\n",
       "</style>\n",
       "<table border=\"1\" class=\"dataframe\">\n",
       "  <thead>\n",
       "    <tr style=\"text-align: right;\">\n",
       "      <th></th>\n",
       "      <th>Date</th>\n",
       "      <th>avg_oil_GBP</th>\n",
       "    </tr>\n",
       "  </thead>\n",
       "  <tbody>\n",
       "    <tr>\n",
       "      <th>0</th>\n",
       "      <td>2011-12-01</td>\n",
       "      <td>80.146667</td>\n",
       "    </tr>\n",
       "    <tr>\n",
       "      <th>1</th>\n",
       "      <td>2011-12-02</td>\n",
       "      <td>80.352000</td>\n",
       "    </tr>\n",
       "    <tr>\n",
       "      <th>2</th>\n",
       "      <td>2011-12-05</td>\n",
       "      <td>81.042667</td>\n",
       "    </tr>\n",
       "    <tr>\n",
       "      <th>3</th>\n",
       "      <td>2011-12-06</td>\n",
       "      <td>80.552000</td>\n",
       "    </tr>\n",
       "    <tr>\n",
       "      <th>4</th>\n",
       "      <td>2011-12-07</td>\n",
       "      <td>80.725333</td>\n",
       "    </tr>\n",
       "    <tr>\n",
       "      <th>...</th>\n",
       "      <td>...</td>\n",
       "      <td>...</td>\n",
       "    </tr>\n",
       "    <tr>\n",
       "      <th>495</th>\n",
       "      <td>2013-11-13</td>\n",
       "      <td>74.810667</td>\n",
       "    </tr>\n",
       "    <tr>\n",
       "      <th>496</th>\n",
       "      <td>2013-11-14</td>\n",
       "      <td>74.784000</td>\n",
       "    </tr>\n",
       "    <tr>\n",
       "      <th>497</th>\n",
       "      <td>2013-11-15</td>\n",
       "      <td>75.205333</td>\n",
       "    </tr>\n",
       "    <tr>\n",
       "      <th>498</th>\n",
       "      <td>2013-11-18</td>\n",
       "      <td>74.880000</td>\n",
       "    </tr>\n",
       "    <tr>\n",
       "      <th>499</th>\n",
       "      <td>2013-11-19</td>\n",
       "      <td>74.370667</td>\n",
       "    </tr>\n",
       "  </tbody>\n",
       "</table>\n",
       "<p>500 rows × 2 columns</p>\n",
       "</div>"
      ],
      "text/plain": [
       "           Date  avg_oil_GBP\n",
       "0    2011-12-01    80.146667\n",
       "1    2011-12-02    80.352000\n",
       "2    2011-12-05    81.042667\n",
       "3    2011-12-06    80.552000\n",
       "4    2011-12-07    80.725333\n",
       "..          ...          ...\n",
       "495  2013-11-13    74.810667\n",
       "496  2013-11-14    74.784000\n",
       "497  2013-11-15    75.205333\n",
       "498  2013-11-18    74.880000\n",
       "499  2013-11-19    74.370667\n",
       "\n",
       "[500 rows x 2 columns]"
      ]
     },
     "execution_count": 21,
     "metadata": {},
     "output_type": "execute_result"
    }
   ],
   "source": [
    "# Use the merge function and Date as ID.\n",
    "oil = oil_subset[['Date', 'avg_oil_GBP']]\n",
    "\n",
    "oil"
   ]
  },
  {
   "cell_type": "code",
   "execution_count": 22,
   "metadata": {},
   "outputs": [
    {
     "data": {
      "text/html": [
       "<div>\n",
       "<style scoped>\n",
       "    .dataframe tbody tr th:only-of-type {\n",
       "        vertical-align: middle;\n",
       "    }\n",
       "\n",
       "    .dataframe tbody tr th {\n",
       "        vertical-align: top;\n",
       "    }\n",
       "\n",
       "    .dataframe thead th {\n",
       "        text-align: right;\n",
       "    }\n",
       "</style>\n",
       "<table border=\"1\" class=\"dataframe\">\n",
       "  <thead>\n",
       "    <tr style=\"text-align: right;\">\n",
       "      <th></th>\n",
       "      <th>Date</th>\n",
       "      <th>avg_gold_GBP</th>\n",
       "      <th>avg_oil_GBP</th>\n",
       "    </tr>\n",
       "  </thead>\n",
       "  <tbody>\n",
       "    <tr>\n",
       "      <th>0</th>\n",
       "      <td>2011-12-15</td>\n",
       "      <td>123.040002</td>\n",
       "      <td>75.784000</td>\n",
       "    </tr>\n",
       "    <tr>\n",
       "      <th>1</th>\n",
       "      <td>2011-12-16</td>\n",
       "      <td>123.621330</td>\n",
       "      <td>74.861333</td>\n",
       "    </tr>\n",
       "    <tr>\n",
       "      <th>2</th>\n",
       "      <td>2011-12-19</td>\n",
       "      <td>124.186666</td>\n",
       "      <td>74.858667</td>\n",
       "    </tr>\n",
       "    <tr>\n",
       "      <th>3</th>\n",
       "      <td>2011-12-20</td>\n",
       "      <td>125.554667</td>\n",
       "      <td>76.194667</td>\n",
       "    </tr>\n",
       "    <tr>\n",
       "      <th>4</th>\n",
       "      <td>2011-12-21</td>\n",
       "      <td>125.504000</td>\n",
       "      <td>78.288000</td>\n",
       "    </tr>\n",
       "    <tr>\n",
       "      <th>...</th>\n",
       "      <td>...</td>\n",
       "      <td>...</td>\n",
       "      <td>...</td>\n",
       "    </tr>\n",
       "    <tr>\n",
       "      <th>495</th>\n",
       "      <td>2014-01-27</td>\n",
       "      <td>97.181334</td>\n",
       "      <td>NaN</td>\n",
       "    </tr>\n",
       "    <tr>\n",
       "      <th>496</th>\n",
       "      <td>2014-01-28</td>\n",
       "      <td>96.834668</td>\n",
       "      <td>NaN</td>\n",
       "    </tr>\n",
       "    <tr>\n",
       "      <th>497</th>\n",
       "      <td>2014-01-29</td>\n",
       "      <td>97.554667</td>\n",
       "      <td>NaN</td>\n",
       "    </tr>\n",
       "    <tr>\n",
       "      <th>498</th>\n",
       "      <td>2014-01-30</td>\n",
       "      <td>95.863999</td>\n",
       "      <td>NaN</td>\n",
       "    </tr>\n",
       "    <tr>\n",
       "      <th>499</th>\n",
       "      <td>2014-02-03</td>\n",
       "      <td>96.773334</td>\n",
       "      <td>NaN</td>\n",
       "    </tr>\n",
       "  </tbody>\n",
       "</table>\n",
       "<p>500 rows × 3 columns</p>\n",
       "</div>"
      ],
      "text/plain": [
       "           Date  avg_gold_GBP  avg_oil_GBP\n",
       "0    2011-12-15    123.040002    75.784000\n",
       "1    2011-12-16    123.621330    74.861333\n",
       "2    2011-12-19    124.186666    74.858667\n",
       "3    2011-12-20    125.554667    76.194667\n",
       "4    2011-12-21    125.504000    78.288000\n",
       "..          ...           ...          ...\n",
       "495  2014-01-27     97.181334          NaN\n",
       "496  2014-01-28     96.834668          NaN\n",
       "497  2014-01-29     97.554667          NaN\n",
       "498  2014-01-30     95.863999          NaN\n",
       "499  2014-02-03     96.773334          NaN\n",
       "\n",
       "[500 rows x 3 columns]"
      ]
     },
     "execution_count": 22,
     "metadata": {},
     "output_type": "execute_result"
    }
   ],
   "source": [
    "# Merge the two DataFrames.\n",
    "gold_oil = pd.merge(gold, oil, on='Date', how='left')\n",
    "\n",
    "gold_oil"
   ]
  },
  {
   "cell_type": "code",
   "execution_count": 54,
   "metadata": {},
   "outputs": [],
   "source": [
    "import pandas as pd\n",
    "import numpy as np\n",
    "import seaborn as sns\n",
    "import matplotlib.pyplot as plt"
   ]
  },
  {
   "cell_type": "code",
   "execution_count": 55,
   "metadata": {},
   "outputs": [
    {
     "name": "stdout",
     "output_type": "stream",
     "text": [
      "Date             datetime64[ns]\n",
      "Open                    float64\n",
      "High                    float64\n",
      "Low                     float64\n",
      "Close                   float64\n",
      "                      ...      \n",
      "USO_High                float64\n",
      "USO_Low                 float64\n",
      "USO_Close               float64\n",
      "USO_Adj Close           float64\n",
      "USO_Volume                int64\n",
      "Length: 81, dtype: object\n",
      "Date     datetime64[ns]\n",
      "Price           float64\n",
      "Open            float64\n",
      "High            float64\n",
      "Low             float64\n",
      "Vol.             object\n",
      "dtype: object\n"
     ]
    }
   ],
   "source": [
    "# Create subsets containing all rows\n",
    "gold_plot = gold\n",
    "oil_plot = oil\n",
    "\n",
    "# Determine data types of the two DataFrames\n",
    "print(gold_plot.dtypes)\n",
    "print(oil_plot.dtypes)\n",
    "\n",
    "# Change data type of Date column from object to datetime in both DataFrames\n",
    "gold_plot['Date'] = pd.to_datetime(gold_plot['Date'])\n",
    "oil_plot['Date'] = pd.to_datetime(oil_plot['Date'])"
   ]
  },
  {
   "cell_type": "code",
   "execution_count": 56,
   "metadata": {},
   "outputs": [
    {
     "name": "stdout",
     "output_type": "stream",
     "text": [
      "Date             datetime64[ns]\n",
      "Open                    float64\n",
      "High                    float64\n",
      "Low                     float64\n",
      "Close                   float64\n",
      "                      ...      \n",
      "USO_High                float64\n",
      "USO_Low                 float64\n",
      "USO_Close               float64\n",
      "USO_Adj Close           float64\n",
      "USO_Volume                int64\n",
      "Length: 81, dtype: object\n",
      "Date     datetime64[ns]\n",
      "Price           float64\n",
      "Open            float64\n",
      "High            float64\n",
      "Low             float64\n",
      "Vol.             object\n",
      "dtype: object\n"
     ]
    }
   ],
   "source": [
    "# determine data types\n",
    "print(gold_plot.dtypes)\n",
    "print(oil_plot.dtypes)\n",
    "\n",
    "# convert date column to datetime\n",
    "gold_plot['Date'] = pd.to_datetime(gold_plot['Date'])\n",
    "oil_plot['Date'] = pd.to_datetime(oil_plot['Date'])"
   ]
  },
  {
   "cell_type": "code",
   "execution_count": 57,
   "metadata": {},
   "outputs": [
    {
     "name": "stdout",
     "output_type": "stream",
     "text": [
      "Gold Outliers:\n",
      "Empty DataFrame\n",
      "Columns: [Date, Open, High, Low, Close, Adj Close, Volume, SP_open, SP_high, SP_low, SP_close, SP_Ajclose, SP_volume, DJ_open, DJ_high, DJ_low, DJ_close, DJ_Ajclose, DJ_volume, EG_open, EG_high, EG_low, EG_close, EG_Ajclose, EG_volume, EU_Price, EU_open, EU_high, EU_low, EU_Trend, OF_Price, OF_Open, OF_High, OF_Low, OF_Volume, OF_Trend, OS_Price, OS_Open, OS_High, OS_Low, OS_Trend, SF_Price, SF_Open, SF_High, SF_Low, SF_Volume, SF_Trend, USB_Price, USB_Open, USB_High, USB_Low, USB_Trend, PLT_Price, PLT_Open, PLT_High, PLT_Low, PLT_Trend, PLD_Price, PLD_Open, PLD_High, PLD_Low, PLD_Trend, RHO_PRICE, USDI_Price, USDI_Open, USDI_High, USDI_Low, USDI_Volume, USDI_Trend, GDX_Open, GDX_High, GDX_Low, GDX_Close, GDX_Adj Close, GDX_Volume, USO_Open, USO_High, USO_Low, USO_Close, USO_Adj Close, USO_Volume]\n",
      "Index: []\n",
      "\n",
      "[0 rows x 81 columns]\n"
     ]
    }
   ],
   "source": [
    "# outlier analysis for gold\n",
    "gold_open_q1 = gold_plot['Open'].quantile(0.25)\n",
    "gold_open_q3 = gold_plot['Open'].quantile(0.75)\n",
    "gold_open_iqr = gold_open_q3 - gold_open_q1\n",
    "gold_open_upper = gold_open_q3 + 1.5 * gold_open_iqr\n",
    "gold_open_lower = gold_open_q1 - 1.5 * gold_open_iqr\n",
    "\n",
    "gold_outliers = gold_plot[(gold_plot['Open'] > gold_open_upper) | (gold_plot['Open'] < gold_open_lower)]\n",
    "print('Gold Outliers:')\n",
    "print(gold_outliers)"
   ]
  },
  {
   "cell_type": "code",
   "execution_count": 58,
   "metadata": {},
   "outputs": [
    {
     "name": "stdout",
     "output_type": "stream",
     "text": [
      "Oil Outliers:\n",
      "Empty DataFrame\n",
      "Columns: [Date, Price, Open, High, Low, Vol.]\n",
      "Index: []\n"
     ]
    }
   ],
   "source": [
    "# outlier analysis for oil\n",
    "oil_open_q1 = oil_plot['Open'].quantile(0.25)\n",
    "oil_open_q3 = oil_plot['Open'].quantile(0.75)\n",
    "oil_open_iqr = oil_open_q3 - oil_open_q1\n",
    "oil_open_upper = oil_open_q3 + 1.5 * oil_open_iqr\n",
    "oil_open_lower = oil_open_q1 - 1.5 * oil_open_iqr\n",
    "\n",
    "oil_outliers = oil_plot[(oil_plot['Open'] > oil_open_upper) | (oil_plot['Open'] < oil_open_lower)]\n",
    "print('Oil Outliers:')\n",
    "print(oil_outliers)"
   ]
  },
  {
   "cell_type": "code",
   "execution_count": null,
   "metadata": {},
   "outputs": [],
   "source": [
    "# create pairplot with KDE for gold\n",
    "sns.pairplot(gold_plot, height=2, kind='kde')\n",
    "plt.show()"
   ]
  },
  {
   "cell_type": "code",
   "execution_count": null,
   "metadata": {},
   "outputs": [],
   "source": [
    "# create pairplot with KDE for oil\n",
    "sns.pairplot(oil_plot, height=2, kind='kde')\n",
    "plt.show()"
   ]
  },
  {
   "cell_type": "code",
   "execution_count": null,
   "metadata": {},
   "outputs": [],
   "source": [
    "# filter data to only display December 2015\n",
    "gold_dec15 = gold_plot[gold_plot['Date'].dt.month == 12]\n",
    "oil_dec15 = oil_plot[oil_plot['Date'].dt.month == 12]\n",
    "\n",
    "# calculate returns for December 2015\n",
    "gold_return = (gold_dec15['Close'].iloc[-1] - gold_dec15['Open'].iloc[0]) / gold_dec15['Open'].iloc[0]\n",
    "oil_return = (oil_dec15['Close'].iloc[-1] - oil_dec15['Open'].iloc[0]) / oil_dec15['Open'].iloc[0]\n",
    "\n",
    "# print returns\n",
    "print('Gold return in December 2015:', gold_return)\n",
    "print('Oil return in December 2015:', oil_return)\n",
    "\n",
    "# create barplots to compare oil and gold for December 2015\n",
    "fig, ax = plt.subplots(figsize=(20, 6))\n",
    "sns.barplot(x='Date', y='Open', data=gold_dec15, ax=ax)\n",
    "ax.set_title('Gold prices in December 2015')\n",
    "plt.show()\n",
    "\n",
    "fig, ax = plt.subplots(figsize=(20, \n"
   ]
  },
  {
   "cell_type": "code",
   "execution_count": null,
   "metadata": {},
   "outputs": [],
   "source": [
    "# create pairplot with KDE for gold\n",
    "sns.pairplot(gold_plot, height=2, kind='kde')\n",
    "plt.show()\n",
    "\n",
    "# create pairplot with KDE for oil\n",
    "sns.pairplot(oil_plot, height=2, kind='kde')\n",
    "plt.show()"
   ]
  },
  {
   "cell_type": "code",
   "execution_count": null,
   "metadata": {},
   "outputs": [],
   "source": []
  }
 ],
 "metadata": {
  "colab": {
   "collapsed_sections": [
    "PBAPYdEhzReC",
    "tdWfO9PCzReE",
    "OM7t_eNrzReG",
    "cfMzjT6pzReH",
    "CZTyPHzDzReI",
    "s2iD065TzReJ",
    "SnNshKt5zReJ",
    "V7xUeiKrzReK",
    "zOXKimZ4zReL",
    "SvZTnBmyzReQ",
    "Y2YLj6FrzReR",
    "ECePc8y8zReS",
    "Fh4M8-k0zReT",
    "5JAcRKy6zReT",
    "UT5_bQnrzReU",
    "RF9QNsh4zReU",
    "usVV5r2gzReU",
    "J07Z9Ea0zReV",
    "DN4NKUMazReV",
    "pBLwItT3zReW"
   ],
   "name": "Activities for Week 4(continued from week 2 and 3 activity).ipynb",
   "provenance": []
  },
  "kernelspec": {
   "display_name": "Python 3 (ipykernel)",
   "language": "python",
   "name": "python3"
  },
  "language_info": {
   "codemirror_mode": {
    "name": "ipython",
    "version": 3
   },
   "file_extension": ".py",
   "mimetype": "text/x-python",
   "name": "python",
   "nbconvert_exporter": "python",
   "pygments_lexer": "ipython3",
   "version": "3.9.13"
  },
  "toc": {
   "base_numbering": 1,
   "nav_menu": {},
   "number_sections": false,
   "sideBar": true,
   "skip_h1_title": false,
   "title_cell": "Table of Contents",
   "title_sidebar": "Contents",
   "toc_cell": false,
   "toc_position": {},
   "toc_section_display": true,
   "toc_window_display": false
  }
 },
 "nbformat": 4,
 "nbformat_minor": 4
}
