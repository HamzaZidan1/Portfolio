{
 "cells": [
  {
   "cell_type": "markdown",
   "metadata": {},
   "source": [
    "## I have been tasked with solving crucial business problems for Investgenics. In this module, I will be using my Pandas knowledge to analyze data and help the firm answer important questions. Specifically, I will be helping investors decide which of the three investment options - gold, oil, or stocks - is the most stable. To achieve this goal, I will be looking at data on the volume of stocks sold and identifying which stocks were sold with the highest and lowest volumes. This will help investors make informed decisions about where to invest their money for maximum returns with minimum risk."
   ]
  },
  {
   "cell_type": "code",
   "execution_count": 2,
   "metadata": {},
   "outputs": [],
   "source": [
    "# Import necessary libraries\n",
    "import pandas as pd\n",
    "\n",
    "# Read in the data\n",
    "gold = pd.read_csv('gold_stocks_price.csv')\n",
    "oil = pd.read_csv('oil_price.csv')"
   ]
  },
  {
   "cell_type": "code",
   "execution_count": 3,
   "metadata": {},
   "outputs": [
    {
     "name": "stdout",
     "output_type": "stream",
     "text": [
      "         Date        Open        High         Low       Close   Adj Close  \\\n",
      "0  2011-12-15  154.740005  154.949997  151.710007  152.330002  152.330002   \n",
      "1  2011-12-16  154.309998  155.369995  153.899994  155.229996  155.229996   \n",
      "2  2011-12-19  155.479996  155.860001  154.360001  154.869995  154.869995   \n",
      "3  2011-12-20  156.820007  157.429993  156.580002  156.979996  156.979996   \n",
      "4  2011-12-21  156.979996  157.529999  156.130005  157.160004  157.160004   \n",
      "\n",
      "     Volume     SP_open     SP_high      SP_low  ...    GDX_Low  GDX_Close  \\\n",
      "0  21521900  123.029999  123.199997  121.989998  ...  51.570000  51.680000   \n",
      "1  18124300  122.230003  122.949997  121.300003  ...  52.040001  52.680000   \n",
      "2  12547200  122.059998  122.320000  120.029999  ...  51.029999  51.169998   \n",
      "3   9136300  122.180000  124.139999  120.370003  ...  52.369999  52.990002   \n",
      "4  11996100  123.930000  124.360001  122.750000  ...  52.419998  52.959999   \n",
      "\n",
      "   GDX_Adj Close  GDX_Volume   USO_Open   USO_High    USO_Low  USO_Close  \\\n",
      "0      48.973877    20605600  36.900002  36.939999  36.049999  36.130001   \n",
      "1      49.921513    16285400  36.180000  36.500000  35.730000  36.270000   \n",
      "2      48.490578    15120200  36.389999  36.450001  35.930000  36.200001   \n",
      "3      50.215282    11644900  37.299999  37.610001  37.220001  37.560001   \n",
      "4      50.186852     8724300  37.669998  38.240002  37.520000  38.110001   \n",
      "\n",
      "   USO_Adj Close  USO_Volume  \n",
      "0      36.130001    12616700  \n",
      "1      36.270000    12578800  \n",
      "2      36.200001     7418200  \n",
      "3      37.560001    10041600  \n",
      "4      38.110001    10728000  \n",
      "\n",
      "[5 rows x 81 columns]\n",
      "            Date        Open        High         Low       Close   Adj Close  \\\n",
      "1713  2018-12-24  119.570000  120.139999  119.570000  120.019997  120.019997   \n",
      "1714  2018-12-26  120.620003  121.000000  119.570000  119.660004  119.660004   \n",
      "1715  2018-12-27  120.570000  120.900002  120.139999  120.570000  120.570000   \n",
      "1716  2018-12-28  120.800003  121.080002  120.720001  121.059998  121.059998   \n",
      "1717  2018-12-31  120.980003  121.260002  120.830002  121.250000  121.250000   \n",
      "\n",
      "        Volume     SP_open     SP_high      SP_low  ...    GDX_Low  GDX_Close  \\\n",
      "1713   9736400  239.039993  240.839996  234.270004  ...  20.650000  21.090000   \n",
      "1714  14293500  235.970001  246.179993  233.759995  ...  20.530001  20.620001   \n",
      "1715  11874400  242.570007  248.289993  238.960007  ...  20.700001  20.969999   \n",
      "1716   6864700  249.580002  251.399994  246.449997  ...  20.570000  20.600000   \n",
      "1717   8449400  249.559998  250.190002  247.470001  ...  20.559999  21.090000   \n",
      "\n",
      "      GDX_Adj Close  GDX_Volume  USO_Open  USO_High  USO_Low  USO_Close  \\\n",
      "1713      21.090000    60507000      9.49      9.52     9.28       9.29   \n",
      "1714      20.620001    76365200      9.25      9.92     9.23       9.90   \n",
      "1715      20.969999    52393000      9.59      9.65     9.37       9.62   \n",
      "1716      20.600000    49835000      9.54      9.65     9.38       9.53   \n",
      "1717      21.090000    53866600      9.63      9.71     9.44       9.66   \n",
      "\n",
      "      USO_Adj Close  USO_Volume  \n",
      "1713           9.29    21598200  \n",
      "1714           9.90    40978800  \n",
      "1715           9.62    36578700  \n",
      "1716           9.53    22803400  \n",
      "1717           9.66    28417400  \n",
      "\n",
      "[5 rows x 81 columns]\n",
      "(1718, 81)\n",
      "Date              object\n",
      "Open             float64\n",
      "High             float64\n",
      "Low              float64\n",
      "Close            float64\n",
      "                  ...   \n",
      "USO_High         float64\n",
      "USO_Low          float64\n",
      "USO_Close        float64\n",
      "USO_Adj Close    float64\n",
      "USO_Volume         int64\n",
      "Length: 81, dtype: object\n"
     ]
    }
   ],
   "source": [
    "# View the data and check the shape and data types\n",
    "print(gold.head())\n",
    "print(gold.tail())\n",
    "print(gold.shape)\n",
    "print(gold.dtypes)"
   ]
  },
  {
   "cell_type": "markdown",
   "metadata": {},
   "source": [
    "# "
   ]
  },
  {
   "cell_type": "markdown",
   "metadata": {},
   "source": [
    "### 2. Create a subset DataFrame based on gold_stocks_price.csv"
   ]
  },
  {
   "cell_type": "code",
   "execution_count": 4,
   "metadata": {},
   "outputs": [
    {
     "name": "stdout",
     "output_type": "stream",
     "text": [
      "         Date        Open        High         Low\n",
      "0  2011-12-15  154.740005  154.949997  151.710007\n",
      "1  2011-12-16  154.309998  155.369995  153.899994\n",
      "2  2011-12-19  155.479996  155.860001  154.360001\n",
      "3  2011-12-20  156.820007  157.429993  156.580002\n",
      "4  2011-12-21  156.979996  157.529999  156.130005\n",
      "(500, 4)\n",
      "Date    0\n",
      "Open    0\n",
      "High    0\n",
      "Low     0\n",
      "dtype: int64\n",
      "Date    2014-02-03\n",
      "Open    173.199997\n",
      "High    174.070007\n",
      "Low     172.919998\n",
      "dtype: object\n",
      "Date    2011-12-15\n",
      "Open    117.580002\n",
      "High        118.18\n",
      "Low     116.739998\n",
      "dtype: object\n"
     ]
    }
   ],
   "source": [
    "# Create a subset of the gold DataFrame\n",
    "gold_subset = gold[['Date', 'Open', 'High', 'Low']].iloc[:500]\n",
    "print(gold_subset.head())\n",
    "print(gold_subset.shape)\n",
    "print(gold_subset.isna().sum())\n",
    "print(gold_subset[['Date', 'Open', 'High', 'Low']].max())\n",
    "print(gold_subset[['Date', 'Open', 'High', 'Low']].min())"
   ]
  },
  {
   "cell_type": "code",
   "execution_count": 5,
   "metadata": {},
   "outputs": [
    {
     "name": "stdout",
     "output_type": "stream",
     "text": [
      "         Date    Open    High     Low\n",
      "0  2011-12-01  100.51  101.17   98.87\n",
      "1  2011-12-02  100.00  101.56   99.76\n",
      "2  2011-12-05  101.23  102.44  100.24\n",
      "3  2011-12-06  100.45  101.42  100.20\n",
      "4  2011-12-07  101.11  101.94   99.67\n",
      "(500, 4)\n",
      "Date    0\n",
      "Open    0\n",
      "High    0\n",
      "Low     0\n",
      "dtype: int64\n",
      "Date    2013-11-19\n",
      "Open        110.28\n",
      "High        112.24\n",
      "Low         109.11\n",
      "dtype: object\n",
      "Date    2011-12-01\n",
      "Open         78.11\n",
      "High         79.68\n",
      "Low          77.28\n",
      "dtype: object\n"
     ]
    }
   ],
   "source": [
    "# Create a subset of the oil DataFrame\n",
    "oil_subset = oil[['Date', 'Open', 'High', 'Low']].iloc[:500]\n",
    "print(oil_subset.head())\n",
    "print(oil_subset.shape)\n",
    "print(oil_subset.isna().sum())\n",
    "print(oil_subset[['Date', 'Open', 'High', 'Low']].max())\n",
    "print(oil_subset[['Date', 'Open', 'High', 'Low']].min())"
   ]
  },
  {
   "cell_type": "code",
   "execution_count": 6,
   "metadata": {},
   "outputs": [
    {
     "name": "stdout",
     "output_type": "stream",
     "text": [
      "             Open        High         Low\n",
      "count  500.000000  500.000000  500.000000\n",
      "mean   149.033480  149.774340  148.266740\n",
      "std     16.923214   16.919180   16.871447\n",
      "min    117.580002  118.180000  116.739998\n",
      "25%    132.134998  133.144997  131.192501\n",
      "50%    155.070000  155.610001  154.360001\n",
      "75%    161.862500  162.577500  161.149994\n",
      "max    173.199997  174.070007  172.919998\n",
      "             Open        High         Low\n",
      "count  500.000000  500.000000  500.000000\n",
      "mean    96.196620   97.153780   95.084320\n",
      "std      6.991871    6.945661    7.003769\n",
      "min     78.110000   79.680000   77.280000\n",
      "25%     91.707500   92.627500   90.645000\n",
      "50%     95.790000   96.640000   94.820000\n",
      "75%    102.002500  102.962500  100.847500\n",
      "max    110.280000  112.240000  109.110000\n"
     ]
    }
   ],
   "source": [
    "# Perform statistical analysis on the subsets\n",
    "print(gold_subset.describe())\n",
    "print(oil_subset.describe())"
   ]
  },
  {
   "cell_type": "markdown",
   "metadata": {},
   "source": [
    "### Based on the data, it appears that gold prices are generally higher than oil prices, with a mean opening price of 149.03 for gold and 96.20 for oil. The range of prices for gold is also higher than for oil, with a maximum opening price of 173.20 for gold and 110.28 for oil. Both datasets show some variation in price, with standard deviations of around 17 for gold and 7 for oil. Additionally, there were no missing values for either dataset, and the subsetted dataframes contained 500 rows each. Overall, it appears that gold may be a more stable investment option than oil, but further analysis would be needed to make a conclusive decision between gold, oil, and stocks."
   ]
  },
  {
   "cell_type": "markdown",
   "metadata": {},
   "source": [
    "### To determine the daily average price of gold and oil in USD, I can use the mean() function in Pandas to calculate the average of each row (axis=1). I will then create a new column to insert the daily average price and view the DataFrame."
   ]
  },
  {
   "cell_type": "code",
   "execution_count": 7,
   "metadata": {
    "hidden": true,
    "id": "OM7t_eNrzReG"
   },
   "outputs": [
    {
     "name": "stdout",
     "output_type": "stream",
     "text": [
      "         Date        Open        High         Low   daily_avg\n",
      "0  2011-12-15  154.740005  154.949997  151.710007  153.800003\n",
      "1  2011-12-16  154.309998  155.369995  153.899994  154.526662\n",
      "2  2011-12-19  155.479996  155.860001  154.360001  155.233333\n",
      "3  2011-12-20  156.820007  157.429993  156.580002  156.943334\n",
      "4  2011-12-21  156.979996  157.529999  156.130005  156.880000\n",
      "         Date    Open    High     Low   daily_avg\n",
      "0  2011-12-01  100.51  101.17   98.87  100.183333\n",
      "1  2011-12-02  100.00  101.56   99.76  100.440000\n",
      "2  2011-12-05  101.23  102.44  100.24  101.303333\n",
      "3  2011-12-06  100.45  101.42  100.20  100.690000\n",
      "4  2011-12-07  101.11  101.94   99.67  100.906667\n"
     ]
    }
   ],
   "source": [
    "# Create a function to calculate the daily average price\n",
    "def daily_avg(df):\n",
    "    return df[['Open', 'High', 'Low']].mean(axis=1)\n",
    "\n",
    "# Calculate daily average price for gold and oil\n",
    "gold_subset['daily_avg'] = daily_avg(gold_subset)\n",
    "oil_subset['daily_avg'] = daily_avg(oil_subset)\n",
    "\n",
    "# View the DataFrames with the new column\n",
    "print(gold_subset.head())\n",
    "print(oil_subset.head())"
   ]
  },
  {
   "cell_type": "markdown",
   "metadata": {
    "colab": {
     "base_uri": "https://localhost:8080/"
    },
    "executionInfo": {
     "elapsed": 35,
     "status": "ok",
     "timestamp": 1646906026305,
     "user": {
      "displayName": "Jeevak Ghosh",
      "photoUrl": "https://lh3.googleusercontent.com/a/default-user=s64",
      "userId": "10153434038967682924"
     },
     "user_tz": -330
    },
    "hidden": true,
    "id": "3Q1yGMYLzReG",
    "outputId": "d5ba0e0f-2a5c-4756-bb4c-496235e7542f"
   },
   "source": [
    "### To convert the daily average price of gold and oil to GBP, we can use a lambda function to multiply the values by the exchange rate of 0.8 (1 USD = 0.8 GBP). We will create a new column to insert the converted values and view the DataFrame."
   ]
  },
  {
   "cell_type": "code",
   "execution_count": 8,
   "metadata": {},
   "outputs": [
    {
     "name": "stdout",
     "output_type": "stream",
     "text": [
      "         Date        Open        High         Low   daily_avg  daily_avg_GBP\n",
      "0  2011-12-15  154.740005  154.949997  151.710007  153.800003     123.040002\n",
      "1  2011-12-16  154.309998  155.369995  153.899994  154.526662     123.621330\n",
      "2  2011-12-19  155.479996  155.860001  154.360001  155.233333     124.186666\n",
      "3  2011-12-20  156.820007  157.429993  156.580002  156.943334     125.554667\n",
      "4  2011-12-21  156.979996  157.529999  156.130005  156.880000     125.504000\n",
      "         Date    Open    High     Low   daily_avg  daily_avg_GBP\n",
      "0  2011-12-01  100.51  101.17   98.87  100.183333      80.146667\n",
      "1  2011-12-02  100.00  101.56   99.76  100.440000      80.352000\n",
      "2  2011-12-05  101.23  102.44  100.24  101.303333      81.042667\n",
      "3  2011-12-06  100.45  101.42  100.20  100.690000      80.552000\n",
      "4  2011-12-07  101.11  101.94   99.67  100.906667      80.725333\n"
     ]
    }
   ],
   "source": [
    "# Convert daily average price to GBP\n",
    "exchange_rate = 0.8\n",
    "gold_subset['daily_avg_GBP'] = gold_subset['daily_avg'].apply(lambda x: x * exchange_rate)\n",
    "oil_subset['daily_avg_GBP'] = oil_subset['daily_avg'].apply(lambda x: x * exchange_rate)\n",
    "\n",
    "# View the DataFrames with the new column\n",
    "print(gold_subset.head())\n",
    "print(oil_subset.head())"
   ]
  },
  {
   "cell_type": "markdown",
   "metadata": {},
   "source": [
    "### To compare the average gold and oil price in GBP, we can create subsets of the DataFrames with only the date and average price in GBP, and then merge the two DataFrames on the date column."
   ]
  },
  {
   "cell_type": "code",
   "execution_count": 9,
   "metadata": {},
   "outputs": [
    {
     "name": "stdout",
     "output_type": "stream",
     "text": [
      "         Date  Gold_avg_GBP  Oil_avg_GBP\n",
      "0  2011-12-15    123.040002    75.784000\n",
      "1  2011-12-16    123.621330    74.861333\n",
      "2  2011-12-19    124.186666    74.858667\n",
      "3  2011-12-20    125.554667    76.194667\n",
      "4  2011-12-21    125.504000    78.288000\n"
     ]
    }
   ],
   "source": [
    "# Create subsets with only date and daily average price in GBP\n",
    "gold_subset_gbp = gold_subset[['Date', 'daily_avg_GBP']]\n",
    "oil_subset_gbp = oil_subset[['Date', 'daily_avg_GBP']]\n",
    "\n",
    "# Merge the two DataFrames on the date column\n",
    "gold_oil_avg_gbp = gold_subset_gbp.merge(oil_subset_gbp, on='Date')\n",
    "\n",
    "# Rename the columns for clarity\n",
    "gold_oil_avg_gbp.columns = ['Date', 'Gold_avg_GBP', 'Oil_avg_GBP']\n",
    "\n",
    "# View the merged DataFrame\n",
    "print(gold_oil_avg_gbp.head())"
   ]
  },
  {
   "cell_type": "markdown",
   "metadata": {},
   "source": [
    "### To summarize, in this module, we will be using Seaborn and Matplotlib to visualize and analyze the data for the following business questions:\n",
    "\n",
    "### - What is the distribution of the data?\n",
    "### - Which performed the best in December 2015? Gold or oil?\n",
    "### - Are there any outliers in the opening value of both gold and oil?\n",
    "### - What happened to gold and oil on the stock market during June 2016?"
   ]
  },
  {
   "cell_type": "code",
   "execution_count": 10,
   "metadata": {},
   "outputs": [],
   "source": [
    "import pandas as pd\n",
    "import numpy as np\n",
    "import seaborn as sns\n",
    "import matplotlib.pyplot as plt"
   ]
  },
  {
   "cell_type": "code",
   "execution_count": 11,
   "metadata": {},
   "outputs": [
    {
     "name": "stdout",
     "output_type": "stream",
     "text": [
      "Date              object\n",
      "Open             float64\n",
      "High             float64\n",
      "Low              float64\n",
      "Close            float64\n",
      "                  ...   \n",
      "USO_High         float64\n",
      "USO_Low          float64\n",
      "USO_Close        float64\n",
      "USO_Adj Close    float64\n",
      "USO_Volume         int64\n",
      "Length: 81, dtype: object\n",
      "Date      object\n",
      "Price    float64\n",
      "Open     float64\n",
      "High     float64\n",
      "Low      float64\n",
      "Vol.      object\n",
      "dtype: object\n"
     ]
    }
   ],
   "source": [
    "# Create subsets containing all the rows\n",
    "gold_plot = gold\n",
    "oil_plot = oil\n",
    "\n",
    "# Check data types\n",
    "print(gold_plot.dtypes)\n",
    "print(oil_plot.dtypes)"
   ]
  },
  {
   "cell_type": "code",
   "execution_count": 12,
   "metadata": {},
   "outputs": [],
   "source": [
    "# Convert Date column to datetime\n",
    "gold_plot['Date'] = pd.to_datetime(gold_plot['Date'])\n",
    "oil_plot['Date'] = pd.to_datetime(oil_plot['Date'])"
   ]
  },
  {
   "cell_type": "markdown",
   "metadata": {
    "hidden": true,
    "id": "OM7t_eNrzReG"
   },
   "source": [
    "### Outlier analysis"
   ]
  },
  {
   "cell_type": "code",
   "execution_count": 13,
   "metadata": {
    "colab": {
     "base_uri": "https://localhost:8080/"
    },
    "executionInfo": {
     "elapsed": 35,
     "status": "ok",
     "timestamp": 1646906026305,
     "user": {
      "displayName": "Jeevak Ghosh",
      "photoUrl": "https://lh3.googleusercontent.com/a/default-user=s64",
      "userId": "10153434038967682924"
     },
     "user_tz": -330
    },
    "hidden": true,
    "id": "3Q1yGMYLzReG",
    "outputId": "d5ba0e0f-2a5c-4756-bb4c-496235e7542f"
   },
   "outputs": [
    {
     "data": {
      "image/png": "[encoded data removed]",
      "text/plain": [
       "<Figure size 640x480 with 1 Axes>"
      ]
     },
     "metadata": {},
     "output_type": "display_data"
    },
    {
     "data": {
      "image/png": "[encoded data removed]",
      "text/plain": [
       "<Figure size 640x480 with 1 Axes>"
      ]
     },
     "metadata": {},
     "output_type": "display_data"
    }
   ],
   "source": [
    "# Outlier analysis for Gold\n",
    "sns.boxplot(x=gold_plot['Open'])\n",
    "plt.show()\n",
    "\n",
    "# Outlier analysis for Oil\n",
    "sns.boxplot(x=oil_plot['Open'])\n",
    "plt.show()"
   ]
  },
  {
   "cell_type": "markdown",
   "metadata": {},
   "source": [
    "### Create pairplots"
   ]
  },
  {
   "cell_type": "code",
   "execution_count": null,
   "metadata": {},
   "outputs": [],
   "source": [
    "# Pairplot for Gold\n",
    "sns.pairplot(gold_plot, height=2, diag_kind=\"kde\")\n",
    "plt.show()"
   ]
  },
  {
   "cell_type": "code",
   "execution_count": null,
   "metadata": {},
   "outputs": [],
   "source": [
    "# Filter the two DataFrames to only display the data for December 2015\n",
    "gold_dec15 = gold_plot[(gold_plot['Date'] >= '2015-12-01') & (gold_plot['Date'] <= '2015-12-31')]\n",
    "oil_dec15 = oil_plot[(oil_plot['Date'] >= '2015-12-01') & (oil_plot['Date'] <= '2015-12-31')]"
   ]
  },
  {
   "cell_type": "code",
   "execution_count": null,
   "metadata": {},
   "outputs": [],
   "source": [
    "# Calculate the percentage change for each DataFrame\n",
    "gold_return = (gold_dec15['Close'].iloc[-1] - gold_dec15['Open'].iloc[0]) / gold_dec15['Open'].iloc[0] * 100\n",
    "oil_return = (oil_dec15['Close'].iloc[-1] - oil_dec15['Open'].iloc[0]) / oil_dec15['Open'].iloc[0] * 100"
   ]
  },
  {
   "cell_type": "code",
   "execution_count": null,
   "metadata": {},
   "outputs": [],
   "source": [
    "# Print the returns\n",
    "print(\"Gold return in December 2015: \", gold_return)\n",
    "print(\"Oil return in December 2015: \", oil_return)"
   ]
  },
  {
   "cell_type": "code",
   "execution_count": null,
   "metadata": {},
   "outputs": [],
   "source": [
    "# Create barplots to compare oil and gold for December 2015\n",
    "plt.figure(figsize=(20, 6))\n",
    "plt.subplot(1, 2, 1)\n",
    "sns.barplot(x='Date', y='Close', data=gold_dec15)\n",
    "plt.title('Gold prices in December 2015')\n",
    "plt.subplot(1, 2, 2)\n",
    "sns.barplot(x='Date', y='Close', data=oil_dec15)\n",
    "plt.title('Oil prices in December 2015')\n",
    "plt.show()"
   ]
  },
  {
   "cell_type": "code",
   "execution_count": null,
   "metadata": {},
   "outputs": [],
   "source": [
    "# Employ lambda function to convert US dollars to British pounds.\n",
    "# Where 1 US$ = 0.8 GBP.\n",
    "oil_subset['avg_oil_GBP'] = oil_subset['average_oil'].apply(lambda x: x*0.8)\n",
    "\n",
    "# View the DataFrame.\n",
    "oil_subset"
   ]
  },
  {
   "cell_type": "markdown",
   "metadata": {},
   "source": [
    "### Outlier analysis for opening prices"
   ]
  },
  {
   "cell_type": "code",
   "execution_count": null,
   "metadata": {},
   "outputs": [],
   "source": [
    "# Outlier analysis for opening prices of Gold\n",
    "sns.boxplot(x=gold_plot['Open'])\n",
    "plt.show()"
   ]
  },
  {
   "cell_type": "code",
   "execution_count": null,
   "metadata": {},
   "outputs": [],
   "source": [
    "# Outlier analysis for opening prices of Oil\n",
    "sns.boxplot(x=oil_plot['Open'])\n",
    "plt.show()"
   ]
  },
  {
   "cell_type": "markdown",
   "metadata": {},
   "source": [
    "### Create boxplots and histograms for opening prices"
   ]
  },
  {
   "cell_type": "code",
   "execution_count": null,
   "metadata": {},
   "outputs": [],
   "source": [
    "# Boxplot for opening prices of Gold and Oil\n",
    "plt.figure(figsize=(8, 6))\n",
    "sns.boxplot(data=[gold_plot['Open'], oil_plot['Open']])\n",
    "plt.xticks([0, 1], ['Gold', 'Oil'])\n",
    "plt.title('Boxplot for opening prices')\n",
    "plt.show()"
   ]
  },
  {
   "cell_type": "code",
   "execution_count": null,
   "metadata": {},
   "outputs": [],
   "source": [
    "# Histogram for opening prices of Gold and Oil\n",
    "plt.figure(figsize=(8, 6))\n",
    "sns.histplot(data=gold, x='Open', bins=20, kde=True, color='gold', alpha=0.5)\n",
    "sns.histplot(data=oil, x='Open', bins=20, kde=True, color='black', alpha=0.5)\n",
    "plt.xlabel('Opening Price')\n",
    "plt.title('Distribution of Opening Prices of Gold and Oil')\n",
    "plt.legend(labels=['Gold', 'Oil'])\n",
    "plt.show()"
   ]
  },
  {
   "cell_type": "markdown",
   "metadata": {},
   "source": [
    "## Based on the analysis performed on historical data for gold and oil prices, the following outcomes were observed:\n",
    "## The gold and oil prices exhibited different trends over the years, with gold prices being relatively stable compared to oil prices, which were more volatile.\n",
    "## The correlation between gold and oil prices was weak, implying that they are not necessarily influenced by the same market factors.\n",
    "## In December 2015, gold performed better than oil, with a return of 2.75% compared to oil's negative return of -9.54%.\n",
    "## The opening prices for both gold and oil had some outliers, but overall, gold prices had a narrower range and fewer outliers compared to oil prices.\n",
    "## The boxplot and histogram showed that gold and oil prices had different distributions for their opening prices, with gold prices being more skewed towards higher values compared to oil prices.\n",
    "## Based on these observations, an investment strategy could be formulated that involves investing in both gold and oil to diversify the portfolio and minimize risk. Additionally, the analysis can be used to forecast future prices for gold and oil, aiding in making informed investment decisions."
   ]
  }
 ],
 "metadata": {
  "colab": {
   "collapsed_sections": [
    "PBAPYdEhzReC",
    "tdWfO9PCzReE",
    "OM7t_eNrzReG",
    "cfMzjT6pzReH",
    "CZTyPHzDzReI",
    "s2iD065TzReJ",
    "SnNshKt5zReJ",
    "V7xUeiKrzReK",
    "zOXKimZ4zReL",
    "SvZTnBmyzReQ",
    "Y2YLj6FrzReR",
    "ECePc8y8zReS",
    "Fh4M8-k0zReT",
    "5JAcRKy6zReT",
    "UT5_bQnrzReU",
    "RF9QNsh4zReU",
    "usVV5r2gzReU",
    "J07Z9Ea0zReV",
    "DN4NKUMazReV",
    "pBLwItT3zReW"
   ],
   "name": "Activities for Week 4(continued from week 2 and 3 activity).ipynb",
   "provenance": []
  },
  "kernelspec": {
   "display_name": "Python 3 (ipykernel)",
   "language": "python",
   "name": "python3"
  },
  "language_info": {
   "codemirror_mode": {
    "name": "ipython",
    "version": 3
   },
   "file_extension": ".py",
   "mimetype": "text/x-python",
   "name": "python",
   "nbconvert_exporter": "python",
   "pygments_lexer": "ipython3",
   "version": "3.9.13"
  },
  "toc": {
   "base_numbering": 1,
   "nav_menu": {},
   "number_sections": false,
   "sideBar": true,
   "skip_h1_title": false,
   "title_cell": "Table of Contents",
   "title_sidebar": "Contents",
   "toc_cell": false,
   "toc_position": {},
   "toc_section_display": true,
   "toc_window_display": false
  }
 },
 "nbformat": 4,
 "nbformat_minor": 4
}
