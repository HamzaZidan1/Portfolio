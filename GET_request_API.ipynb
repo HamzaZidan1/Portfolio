{
 "cells": [
  {
   "cell_type": "code",
   "execution_count": 1,
   "id": "2d544e59",
   "metadata": {},
   "outputs": [],
   "source": [
    "import requests\n",
    "import json\n",
    "import pandas as pd"
   ]
  },
  {
   "cell_type": "code",
   "execution_count": 2,
   "id": "6599a488",
   "metadata": {},
   "outputs": [
    {
     "name": "stdout",
     "output_type": "stream",
     "text": [
      "200\n"
     ]
    }
   ],
   "source": [
    "# Establish a connection with the API\n",
    "response = requests.get('https://api.coindesk.com/v1/bpi/currentprice.json')\n",
    "\n",
    "# Print the status_code of the GET request\n",
    "print(response.status_code)"
   ]
  },
  {
   "cell_type": "code",
   "execution_count": 3,
   "id": "64820be1",
   "metadata": {},
   "outputs": [
    {
     "name": "stdout",
     "output_type": "stream",
     "text": [
      "{'Content-Type': 'application/javascript', 'Content-Length': '677', 'Connection': 'keep-alive', 'Access-Control-Allow-Origin': '*', 'Cache-Control': 'max-age=15', 'Date': 'Wed, 08 Mar 2023 00:52:05 GMT', 'Expires': 'Wed, 08 Mar 2023 00:53:07 UTC', 'Server': 'nginx/1.18.0', 'X-Powered-By': 'Fat-Free Framework', 'X-Cache': 'Hit from cloudfront', 'Via': '1.1 55dada2464e6ba917a3dd79fd772fa1c.cloudfront.net (CloudFront)', 'X-Amz-Cf-Pop': 'LHR50-P6', 'X-Amz-Cf-Id': 'wFsqiT5zh4GXEjnpf1GfMi_28NftYFFJnD5RF5VHiTz9bX5vDKpRwQ==', 'Age': '11'}\n"
     ]
    }
   ],
   "source": [
    "# Retrieve the headers of the API\n",
    "headers = response.headers\n",
    "print(headers)"
   ]
  },
  {
   "cell_type": "code",
   "execution_count": 4,
   "id": "7e4466d7",
   "metadata": {},
   "outputs": [
    {
     "name": "stdout",
     "output_type": "stream",
     "text": [
      "<class 'dict'>\n",
      "{'time': {'updated': 'Mar 8, 2023 00:51:00 UTC', 'updatedISO': '2023-03-08T00:51:00+00:00', 'updateduk': 'Mar 8, 2023 at 00:51 GMT'}, 'disclaimer': 'This data was produced from the CoinDesk Bitcoin Price Index (USD). Non-USD currency data converted using hourly conversion rate from openexchangerates.org', 'chartName': 'Bitcoin', 'bpi': {'USD': {'code': 'USD', 'symbol': '&#36;', 'rate': '22,222.1225', 'description': 'United States Dollar', 'rate_float': 22222.1225}, 'GBP': {'code': 'GBP', 'symbol': '&pound;', 'rate': '18,568.6278', 'description': 'British Pound Sterling', 'rate_float': 18568.6278}, 'EUR': {'code': 'EUR', 'symbol': '&euro;', 'rate': '21,647.5917', 'description': 'Euro', 'rate_float': 21647.5917}}}\n"
     ]
    }
   ],
   "source": [
    "# Parse the JSON data with the loads() function\n",
    "json_data = json.loads(response.text)\n",
    "\n",
    "# View the type and JSON feedback\n",
    "print(type(json_data))\n",
    "print(json_data)"
   ]
  },
  {
   "cell_type": "code",
   "execution_count": 5,
   "id": "17d5af04",
   "metadata": {},
   "outputs": [
    {
     "name": "stdout",
     "output_type": "stream",
     "text": [
      "{\n",
      "    \"time\": {\n",
      "        \"updated\": \"Mar 8, 2023 00:51:00 UTC\",\n",
      "        \"updatedISO\": \"2023-03-08T00:51:00+00:00\",\n",
      "        \"updateduk\": \"Mar 8, 2023 at 00:51 GMT\"\n",
      "    },\n",
      "    \"disclaimer\": \"This data was produced from the CoinDesk Bitcoin Price Index (USD). Non-USD currency data converted using hourly conversion rate from openexchangerates.org\",\n",
      "    \"chartName\": \"Bitcoin\",\n",
      "    \"bpi\": {\n",
      "        \"USD\": {\n",
      "            \"code\": \"USD\",\n",
      "            \"symbol\": \"&#36;\",\n",
      "            \"rate\": \"22,222.1225\",\n",
      "            \"description\": \"United States Dollar\",\n",
      "            \"rate_float\": 22222.1225\n",
      "        },\n",
      "        \"GBP\": {\n",
      "            \"code\": \"GBP\",\n",
      "            \"symbol\": \"&pound;\",\n",
      "            \"rate\": \"18,568.6278\",\n",
      "            \"description\": \"British Pound Sterling\",\n",
      "            \"rate_float\": 18568.6278\n",
      "        },\n",
      "        \"EUR\": {\n",
      "            \"code\": \"EUR\",\n",
      "            \"symbol\": \"&euro;\",\n",
      "            \"rate\": \"21,647.5917\",\n",
      "            \"description\": \"Euro\",\n",
      "            \"rate_float\": 21647.5917\n",
      "        }\n",
      "    }\n",
      "}\n"
     ]
    }
   ],
   "source": [
    "# Format the JSON output with an indent of 4\n",
    "formatted_json = json.dumps(json_data, indent=4)\n",
    "print(formatted_json)"
   ]
  },
  {
   "cell_type": "code",
   "execution_count": 6,
   "id": "5288614b",
   "metadata": {},
   "outputs": [
    {
     "name": "stdout",
     "output_type": "stream",
     "text": [
      "    code   symbol         rate             description  rate_float\n",
      "USD  USD    &#36;  22,222.1225    United States Dollar  22222.1225\n",
      "GBP  GBP  &pound;  18,568.6278  British Pound Sterling  18568.6278\n",
      "EUR  EUR   &euro;  21,647.5917                    Euro  21647.5917\n"
     ]
    }
   ],
   "source": [
    "# Create a Pandas DataFrame directly from the output\n",
    "df = pd.DataFrame.from_dict(json_data['bpi'], orient='index')\n",
    "print(df)"
   ]
  },
  {
   "cell_type": "code",
   "execution_count": 7,
   "id": "c36ed688",
   "metadata": {},
   "outputs": [],
   "source": [
    "# Save the JSON output as a CSV and JSON file\n",
    "with open('bitcoin.json', 'w') as f:\n",
    "    f.write(formatted_json)\n",
    "\n",
    "df.to_csv('bitcoin.csv')"
   ]
  },
  {
   "cell_type": "code",
   "execution_count": 8,
   "id": "28ad9c11",
   "metadata": {},
   "outputs": [
    {
     "name": "stdout",
     "output_type": "stream",
     "text": [
      "200\n"
     ]
    }
   ],
   "source": [
    "# Establish a connection with the API\n",
    "response = requests.get('https://datausa.io/api/data?drilldowns=Nation&measures=Population')\n",
    "\n",
    "# Print the status_code of the GET request\n",
    "print(response.status_code)"
   ]
  },
  {
   "cell_type": "code",
   "execution_count": 9,
   "id": "6a753fa1",
   "metadata": {},
   "outputs": [
    {
     "name": "stdout",
     "output_type": "stream",
     "text": [
      "{'Date': 'Wed, 08 Mar 2023 00:54:33 GMT', 'Content-Type': 'application/json; charset=utf-8', 'Transfer-Encoding': 'chunked', 'Connection': 'keep-alive', 'x-dns-prefetch-control': 'off', 'strict-transport-security': 'max-age=15552000; includeSubDomains', 'x-download-options': 'noopen', 'x-content-type-options': 'nosniff', 'x-xss-protection': '1; mode=block', 'content-language': 'en', 'etag': 'W/\"5de-nIC6PX3cEGifOOBAdlSmcCVN9zA\"', 'vary': 'Accept-Encoding', 'last-modified': 'Mon, 05 Dec 2022 21:02:20 GMT', 'x-cache-status': 'HIT', 'x-frame-options': 'SAMEORIGIN', 'access-control-allow-origin': '*', 'access-control-allow-credentials': 'true', 'access-control-allow-methods': 'GET, POST, OPTIONS', 'access-control-allow-headers': 'DNT,X-CustomHeader,Keep-Alive,User-Agent,X-Requested-With,If-Modified-Since,Cache-Control,Content-Type', 'x-cache-key': 'GET/api/data?drilldowns=Nation&measures=Population', 'Cache-Control': 'max-age=1800', 'CF-Cache-Status': 'HIT', 'Age': '1165730', 'Report-To': '{\"endpoints\":[{\"url\":\"https:\\\\/\\\\/a.nel.cloudflare.com\\\\/report\\\\/v3?s=yWQdGss2eAlp2wXJQiRyq8%2B3CS7e%2FpFFXRCKKlCCqKVr3ER6Jxfd%2Fos%2FEdlxAPwbZpj36T2DPnRScQm85Obq2j%2FhpZIK%2Bl0AtlKVVgx%2FyDGQ9YVzHj1xbnu4tbHZ5uRefVjvMeR58eI%3D\"}],\"group\":\"cf-nel\",\"max_age\":604800}', 'NEL': '{\"success_fraction\":0,\"report_to\":\"cf-nel\",\"max_age\":604800}', 'Server': 'cloudflare', 'CF-RAY': '7a471b8bdde84596-LHR', 'Content-Encoding': 'br'}\n"
     ]
    }
   ],
   "source": [
    "# Retrieve the headers of the API\n",
    "headers = response.headers\n",
    "print(headers)"
   ]
  },
  {
   "cell_type": "code",
   "execution_count": 10,
   "id": "87b6d421",
   "metadata": {},
   "outputs": [],
   "source": [
    "# Parse the JSON data with the loads() function\n",
    "json_data = json.loads(response.text)"
   ]
  },
  {
   "cell_type": "code",
   "execution_count": 11,
   "id": "535d4c12",
   "metadata": {},
   "outputs": [
    {
     "name": "stdout",
     "output_type": "stream",
     "text": [
      "<class 'dict'>\n",
      "{'data': [{'ID Nation': '01000US', 'Nation': 'United States', 'ID Year': 2020, 'Year': '2020', 'Population': 326569308, 'Slug Nation': 'united-states'}, {'ID Nation': '01000US', 'Nation': 'United States', 'ID Year': 2019, 'Year': '2019', 'Population': 324697795, 'Slug Nation': 'united-states'}, {'ID Nation': '01000US', 'Nation': 'United States', 'ID Year': 2018, 'Year': '2018', 'Population': 322903030, 'Slug Nation': 'united-states'}, {'ID Nation': '01000US', 'Nation': 'United States', 'ID Year': 2017, 'Year': '2017', 'Population': 321004407, 'Slug Nation': 'united-states'}, {'ID Nation': '01000US', 'Nation': 'United States', 'ID Year': 2016, 'Year': '2016', 'Population': 318558162, 'Slug Nation': 'united-states'}, {'ID Nation': '01000US', 'Nation': 'United States', 'ID Year': 2015, 'Year': '2015', 'Population': 316515021, 'Slug Nation': 'united-states'}, {'ID Nation': '01000US', 'Nation': 'United States', 'ID Year': 2014, 'Year': '2014', 'Population': 314107084, 'Slug Nation': 'united-states'}, {'ID Nation': '01000US', 'Nation': 'United States', 'ID Year': 2013, 'Year': '2013', 'Population': 311536594, 'Slug Nation': 'united-states'}], 'source': [{'measures': ['Population'], 'annotations': {'source_name': 'Census Bureau', 'source_description': 'The American Community Survey (ACS) is conducted by the US Census and sent to a portion of the population every year.', 'dataset_name': 'ACS 5-year Estimate', 'dataset_link': 'http://www.census.gov/programs-surveys/acs/', 'table_id': 'B01003', 'topic': 'Diversity', 'subtopic': 'Demographics'}, 'name': 'acs_yg_total_population_5', 'substitutions': []}]}\n"
     ]
    }
   ],
   "source": [
    "# View the type and JSON feedback\n",
    "print(type(json_data))\n",
    "print(json_data)"
   ]
  },
  {
   "cell_type": "code",
   "execution_count": 12,
   "id": "cd1818e7",
   "metadata": {},
   "outputs": [
    {
     "name": "stdout",
     "output_type": "stream",
     "text": [
      "{\n",
      "    \"data\": [\n",
      "        {\n",
      "            \"ID Nation\": \"01000US\",\n",
      "            \"Nation\": \"United States\",\n",
      "            \"ID Year\": 2020,\n",
      "            \"Year\": \"2020\",\n",
      "            \"Population\": 326569308,\n",
      "            \"Slug Nation\": \"united-states\"\n",
      "        },\n",
      "        {\n",
      "            \"ID Nation\": \"01000US\",\n",
      "            \"Nation\": \"United States\",\n",
      "            \"ID Year\": 2019,\n",
      "            \"Year\": \"2019\",\n",
      "            \"Population\": 324697795,\n",
      "            \"Slug Nation\": \"united-states\"\n",
      "        },\n",
      "        {\n",
      "            \"ID Nation\": \"01000US\",\n",
      "            \"Nation\": \"United States\",\n",
      "            \"ID Year\": 2018,\n",
      "            \"Year\": \"2018\",\n",
      "            \"Population\": 322903030,\n",
      "            \"Slug Nation\": \"united-states\"\n",
      "        },\n",
      "        {\n",
      "            \"ID Nation\": \"01000US\",\n",
      "            \"Nation\": \"United States\",\n",
      "            \"ID Year\": 2017,\n",
      "            \"Year\": \"2017\",\n",
      "            \"Population\": 321004407,\n",
      "            \"Slug Nation\": \"united-states\"\n",
      "        },\n",
      "        {\n",
      "            \"ID Nation\": \"01000US\",\n",
      "            \"Nation\": \"United States\",\n",
      "            \"ID Year\": 2016,\n",
      "            \"Year\": \"2016\",\n",
      "            \"Population\": 318558162,\n",
      "            \"Slug Nation\": \"united-states\"\n",
      "        },\n",
      "        {\n",
      "            \"ID Nation\": \"01000US\",\n",
      "            \"Nation\": \"United States\",\n",
      "            \"ID Year\": 2015,\n",
      "            \"Year\": \"2015\",\n",
      "            \"Population\": 316515021,\n",
      "            \"Slug Nation\": \"united-states\"\n",
      "        },\n",
      "        {\n",
      "            \"ID Nation\": \"01000US\",\n",
      "            \"Nation\": \"United States\",\n",
      "            \"ID Year\": 2014,\n",
      "            \"Year\": \"2014\",\n",
      "            \"Population\": 314107084,\n",
      "            \"Slug Nation\": \"united-states\"\n",
      "        },\n",
      "        {\n",
      "            \"ID Nation\": \"01000US\",\n",
      "            \"Nation\": \"United States\",\n",
      "            \"ID Year\": 2013,\n",
      "            \"Year\": \"2013\",\n",
      "            \"Population\": 311536594,\n",
      "            \"Slug Nation\": \"united-states\"\n",
      "        }\n",
      "    ],\n",
      "    \"source\": [\n",
      "        {\n",
      "            \"measures\": [\n",
      "                \"Population\"\n",
      "            ],\n",
      "            \"annotations\": {\n",
      "                \"source_name\": \"Census Bureau\",\n",
      "                \"source_description\": \"The American Community Survey (ACS) is conducted by the US Census and sent to a portion of the population every year.\",\n",
      "                \"dataset_name\": \"ACS 5-year Estimate\",\n",
      "                \"dataset_link\": \"http://www.census.gov/programs-surveys/acs/\",\n",
      "                \"table_id\": \"B01003\",\n",
      "                \"topic\": \"Diversity\",\n",
      "                \"subtopic\": \"Demographics\"\n",
      "            },\n",
      "            \"name\": \"acs_yg_total_population_5\",\n",
      "            \"substitutions\": []\n",
      "        }\n",
      "    ]\n",
      "}\n"
     ]
    }
   ],
   "source": [
    "# Format the JSON output with an indent of 4\n",
    "formatted_json = json.dumps(json_data, indent=4)\n",
    "print(formatted_json)"
   ]
  },
  {
   "cell_type": "code",
   "execution_count": 24,
   "id": "baaf0da2",
   "metadata": {},
   "outputs": [
    {
     "name": "stdout",
     "output_type": "stream",
     "text": [
      "  ID Nation         Nation  ID Year  Year  Population    Slug Nation\n",
      "0   01000US  United States     2020  2020   326569308  united-states\n",
      "1   01000US  United States     2019  2019   324697795  united-states\n",
      "2   01000US  United States     2018  2018   322903030  united-states\n",
      "3   01000US  United States     2017  2017   321004407  united-states\n",
      "4   01000US  United States     2016  2016   318558162  united-states\n",
      "5   01000US  United States     2015  2015   316515021  united-states\n",
      "6   01000US  United States     2014  2014   314107084  united-states\n",
      "7   01000US  United States     2013  2013   311536594  united-states\n"
     ]
    }
   ],
   "source": [
    "# Create a Pandas DataFrame directly from the output\n",
    "df = pd.json_normalize(json_data['data'])\n",
    "print(df)"
   ]
  },
  {
   "cell_type": "code",
   "execution_count": 22,
   "id": "b51d3870",
   "metadata": {},
   "outputs": [],
   "source": [
    "# Save the JSON output as a file\n",
    "with open('usa_population.json', 'w') as f:\n",
    "    f.write(formatted_json)"
   ]
  },
  {
   "cell_type": "code",
   "execution_count": 25,
   "id": "53b6bb2a",
   "metadata": {},
   "outputs": [],
   "source": [
    "# Save the DataFrame as a CSV file\n",
    "df.to_csv('usa_population.csv', index=False)"
   ]
  },
  {
   "cell_type": "markdown",
   "id": "72cbb328",
   "metadata": {},
   "source": [
    "## Based on my analysis of the current Bitcoin Price Index and USA population data, it appears that there is a positive correlation between the population of the United States and the rate of Bitcoin. However, it is difficult to predict future growth of the currency and its use in the United States based solely on these two factors. Further analysis and examination of additional data points will be necessary to fully understand the potential use and growth of Bitcoin in the United States."
   ]
  }
 ],
 "metadata": {
  "kernelspec": {
   "display_name": "Python 3 (ipykernel)",
   "language": "python",
   "name": "python3"
  },
  "language_info": {
   "codemirror_mode": {
    "name": "ipython",
    "version": 3
   },
   "file_extension": ".py",
   "mimetype": "text/x-python",
   "name": "python",
   "nbconvert_exporter": "python",
   "pygments_lexer": "ipython3",
   "version": "3.9.13"
  }
 },
 "nbformat": 4,
 "nbformat_minor": 5
}
